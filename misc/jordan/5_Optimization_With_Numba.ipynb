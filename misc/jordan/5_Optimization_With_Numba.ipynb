{
 "cells": [
  {
   "cell_type": "markdown",
   "metadata": {},
   "source": [
    "# Optimization With Numba\n",
    "My approach so far has focused on working out the details of numpy, but there seems to be a fundamental limit to what I can achieve that way. On the other hand, there seems to be a small side issue that I noted in my last update: \n",
    "\n",
    "> I found a bug in the output of my `compute_weights` function: `p_theta_minus_q_theta` has the wrong shape, 20 x 100k instead of 1 x 100k. Obviously my hope is that this reflects an opportunity to further optimize compute weights, but it's probably a shape issue with a sum I did at some point in the calculation.\n",
    "\n",
    "My next increment for PCITpy should be to resolve this issue and explore the use of numba (or, failing that, Cython) to address these sorts of bottlenecks in my code. I'll also ditch use of `float32` for optimization, as it certainly does change the behavior of my program."
   ]
  },
  {
   "cell_type": "markdown",
   "metadata": {},
   "source": [
    "## Setup\n",
    "Loading relevant packages and data."
   ]
  },
  {
   "cell_type": "code",
   "execution_count": 6,
   "metadata": {
    "execution": {
     "iopub.execute_input": "2021-01-04T08:12:23.325557Z",
     "iopub.status.busy": "2021-01-04T08:12:23.325058Z",
     "iopub.status.idle": "2021-01-04T08:12:23.347058Z",
     "shell.execute_reply": "2021-01-04T08:12:23.346058Z",
     "shell.execute_reply.started": "2021-01-04T08:12:23.325557Z"
    }
   },
   "outputs": [],
   "source": [
    "import numpy as np\n",
    "from scipy import special\n",
    "from numba import jit\n",
    "import math\n",
    "\n",
    "tau = .05\n",
    "bounds = np.array([[-1,  1],\n",
    "       [ 0,  1],\n",
    "       [ 0,  1],\n",
    "       [-1,  1],\n",
    "       [-1,  1],\n",
    "       [-1,  1]])\n",
    "which_param = 0\n",
    "\n",
    "nth_grp_lvl_param = np.load('../../nth_grp_lvl_param.npy')\n",
    "nth_prev_iter_curve_param = np.load('../../nth_prev_iter_curve_param.npy')"
   ]
  },
  {
   "cell_type": "markdown",
   "metadata": {},
   "source": [
    "## Starting Point\n",
    "The current version of the function prior to further optimization."
   ]
  },
  {
   "cell_type": "code",
   "execution_count": 2,
   "metadata": {
    "execution": {
     "iopub.execute_input": "2021-01-04T05:41:17.718571Z",
     "iopub.status.busy": "2021-01-04T05:41:17.718064Z",
     "iopub.status.idle": "2021-01-04T05:41:19.898560Z",
     "shell.execute_reply": "2021-01-04T05:41:19.897057Z",
     "shell.execute_reply.started": "2021-01-04T05:41:17.718571Z"
    }
   },
   "outputs": [
    {
     "name": "stdout",
     "output_type": "stream",
     "text": [
      "26.8 ms ± 640 µs per loop (mean ± std. dev. of 7 runs, 10 loops each)\n"
     ]
    }
   ],
   "source": [
    "%%timeit \n",
    "def compute_trunc_likes(x, mu):\n",
    "    global tau, bounds, which_param\n",
    "\n",
    "    if tau <= 0:\n",
    "        raise ValueError('Tau is <= 0!')\n",
    "\n",
    "    # This ugly thing below is a manifestation of log(1 ./ (tau .* (normcdf((bounds(which_param, 2) - mu) ./ tau) -\n",
    "    # normcdf((bounds(which_param, 1) - mu) ./ tau))) .* normpdf((x - mu) ./ tau)) Refer to\n",
    "    # http://en.wikipedia.org/wiki/Truncated_normal_distribution for the truncated normal distribution\n",
    "    log_likelihood = -(np.log(tau) + np.log(np.multiply(0.5, special.erfc(\n",
    "        -np.divide(bounds[which_param, 1] - mu, np.multiply(tau, math.sqrt(2))))) + (np.multiply(-0.5, special.erfc(\n",
    "            -np.divide(bounds[which_param, 0] - mu, np.multiply(tau, math.sqrt(2)))))))) + np.multiply(\n",
    "            -.5, np.log(2) + np.log(np.pi)) - (np.divide(x - mu, tau/np.sqrt(.5)) ** 2)\n",
    "    return log_likelihood\n",
    "\n",
    "compute_trunc_likes(nth_grp_lvl_param, nth_prev_iter_curve_param)"
   ]
  },
  {
   "cell_type": "markdown",
   "metadata": {},
   "source": [
    "## Just Adding the Decorator"
   ]
  },
  {
   "cell_type": "code",
   "execution_count": 3,
   "metadata": {
    "execution": {
     "iopub.execute_input": "2021-01-04T05:41:21.795557Z",
     "iopub.status.busy": "2021-01-04T05:41:21.795059Z",
     "iopub.status.idle": "2021-01-04T05:41:22.517567Z",
     "shell.execute_reply": "2021-01-04T05:41:22.516057Z",
     "shell.execute_reply.started": "2021-01-04T05:41:21.795557Z"
    }
   },
   "outputs": [
    {
     "ename": "TypingError",
     "evalue": "Failed in nopython mode pipeline (step: nopython frontend)\n\u001b[1m\u001b[1mUnknown attribute 'erfc' of type Module(<module 'scipy.special' from 'c:\\\\users\\\\gunnj\\\\miniconda3\\\\lib\\\\site-packages\\\\scipy\\\\special\\\\__init__.py'>)\n\u001b[1m\nFile \"<magic-timeit>\", line 11:\u001b[0m\n\u001b[1m<source missing, REPL/exec in use?>\u001b[0m\n\u001b[0m\n\u001b[0m\u001b[1mDuring: typing of get attribute at <magic-timeit> (11)\u001b[0m\n\u001b[1m\nFile \"<magic-timeit>\", line 11:\u001b[0m\n\u001b[1m<source missing, REPL/exec in use?>\u001b[0m\n",
     "output_type": "error",
     "traceback": [
      "\u001b[1;31m---------------------------------------------------------------------------\u001b[0m",
      "\u001b[1;31mTypingError\u001b[0m                               Traceback (most recent call last)",
      "\u001b[1;32m<ipython-input-3-0a32e539213e>\u001b[0m in \u001b[0;36m<module>\u001b[1;34m\u001b[0m\n\u001b[1;32m----> 1\u001b[1;33m \u001b[0mget_ipython\u001b[0m\u001b[1;33m(\u001b[0m\u001b[1;33m)\u001b[0m\u001b[1;33m.\u001b[0m\u001b[0mrun_cell_magic\u001b[0m\u001b[1;33m(\u001b[0m\u001b[1;34m'timeit'\u001b[0m\u001b[1;33m,\u001b[0m \u001b[1;34m''\u001b[0m\u001b[1;33m,\u001b[0m \u001b[1;34m\"@jit(nopython=True)\\ndef compute_trunc_likes(x, mu):\\n    global tau, bounds, which_param\\n\\n    if tau <= 0:\\n        raise ValueError('Tau is <= 0!')\\n\\n    # This ugly thing below is a manifestation of log(1 ./ (tau .* (normcdf((bounds(which_param, 2) - mu) ./ tau) -\\n    # normcdf((bounds(which_param, 1) - mu) ./ tau))) .* normpdf((x - mu) ./ tau)) Refer to\\n    # http://en.wikipedia.org/wiki/Truncated_normal_distribution for the truncated normal distribution\\n    log_likelihood = -(np.log(tau) + np.log(np.multiply(0.5, special.erfc(\\n        -np.divide(bounds[which_param, 1] - mu, np.multiply(tau, math.sqrt(2))))) + (np.multiply(-0.5, special.erfc(\\n            -np.divide(bounds[which_param, 0] - mu, np.multiply(tau, math.sqrt(2)))))))) + np.multiply(\\n            -.5, np.log(2) + np.log(np.pi)) - (np.divide(x - mu, tau/np.sqrt(.5)) ** 2)\\n    return log_likelihood\\n\\ncompute_trunc_likes(nth_grp_lvl_param, nth_prev_iter_curve_param)\\n\"\u001b[0m\u001b[1;33m)\u001b[0m\u001b[1;33m\u001b[0m\u001b[1;33m\u001b[0m\u001b[0m\n\u001b[0m",
      "\u001b[1;32mc:\\users\\gunnj\\miniconda3\\lib\\site-packages\\IPython\\core\\interactiveshell.py\u001b[0m in \u001b[0;36mrun_cell_magic\u001b[1;34m(self, magic_name, line, cell)\u001b[0m\n\u001b[0;32m   2380\u001b[0m             \u001b[1;32mwith\u001b[0m \u001b[0mself\u001b[0m\u001b[1;33m.\u001b[0m\u001b[0mbuiltin_trap\u001b[0m\u001b[1;33m:\u001b[0m\u001b[1;33m\u001b[0m\u001b[1;33m\u001b[0m\u001b[0m\n\u001b[0;32m   2381\u001b[0m                 \u001b[0margs\u001b[0m \u001b[1;33m=\u001b[0m \u001b[1;33m(\u001b[0m\u001b[0mmagic_arg_s\u001b[0m\u001b[1;33m,\u001b[0m \u001b[0mcell\u001b[0m\u001b[1;33m)\u001b[0m\u001b[1;33m\u001b[0m\u001b[1;33m\u001b[0m\u001b[0m\n\u001b[1;32m-> 2382\u001b[1;33m                 \u001b[0mresult\u001b[0m \u001b[1;33m=\u001b[0m \u001b[0mfn\u001b[0m\u001b[1;33m(\u001b[0m\u001b[1;33m*\u001b[0m\u001b[0margs\u001b[0m\u001b[1;33m,\u001b[0m \u001b[1;33m**\u001b[0m\u001b[0mkwargs\u001b[0m\u001b[1;33m)\u001b[0m\u001b[1;33m\u001b[0m\u001b[1;33m\u001b[0m\u001b[0m\n\u001b[0m\u001b[0;32m   2383\u001b[0m             \u001b[1;32mreturn\u001b[0m \u001b[0mresult\u001b[0m\u001b[1;33m\u001b[0m\u001b[1;33m\u001b[0m\u001b[0m\n\u001b[0;32m   2384\u001b[0m \u001b[1;33m\u001b[0m\u001b[0m\n",
      "\u001b[1;32m<decorator-gen-54>\u001b[0m in \u001b[0;36mtimeit\u001b[1;34m(self, line, cell, local_ns)\u001b[0m\n",
      "\u001b[1;32mc:\\users\\gunnj\\miniconda3\\lib\\site-packages\\IPython\\core\\magic.py\u001b[0m in \u001b[0;36m<lambda>\u001b[1;34m(f, *a, **k)\u001b[0m\n\u001b[0;32m    185\u001b[0m     \u001b[1;31m# but it's overkill for just that one bit of state.\u001b[0m\u001b[1;33m\u001b[0m\u001b[1;33m\u001b[0m\u001b[1;33m\u001b[0m\u001b[0m\n\u001b[0;32m    186\u001b[0m     \u001b[1;32mdef\u001b[0m \u001b[0mmagic_deco\u001b[0m\u001b[1;33m(\u001b[0m\u001b[0marg\u001b[0m\u001b[1;33m)\u001b[0m\u001b[1;33m:\u001b[0m\u001b[1;33m\u001b[0m\u001b[1;33m\u001b[0m\u001b[0m\n\u001b[1;32m--> 187\u001b[1;33m         \u001b[0mcall\u001b[0m \u001b[1;33m=\u001b[0m \u001b[1;32mlambda\u001b[0m \u001b[0mf\u001b[0m\u001b[1;33m,\u001b[0m \u001b[1;33m*\u001b[0m\u001b[0ma\u001b[0m\u001b[1;33m,\u001b[0m \u001b[1;33m**\u001b[0m\u001b[0mk\u001b[0m\u001b[1;33m:\u001b[0m \u001b[0mf\u001b[0m\u001b[1;33m(\u001b[0m\u001b[1;33m*\u001b[0m\u001b[0ma\u001b[0m\u001b[1;33m,\u001b[0m \u001b[1;33m**\u001b[0m\u001b[0mk\u001b[0m\u001b[1;33m)\u001b[0m\u001b[1;33m\u001b[0m\u001b[1;33m\u001b[0m\u001b[0m\n\u001b[0m\u001b[0;32m    188\u001b[0m \u001b[1;33m\u001b[0m\u001b[0m\n\u001b[0;32m    189\u001b[0m         \u001b[1;32mif\u001b[0m \u001b[0mcallable\u001b[0m\u001b[1;33m(\u001b[0m\u001b[0marg\u001b[0m\u001b[1;33m)\u001b[0m\u001b[1;33m:\u001b[0m\u001b[1;33m\u001b[0m\u001b[1;33m\u001b[0m\u001b[0m\n",
      "\u001b[1;32mc:\\users\\gunnj\\miniconda3\\lib\\site-packages\\IPython\\core\\magics\\execution.py\u001b[0m in \u001b[0;36mtimeit\u001b[1;34m(self, line, cell, local_ns)\u001b[0m\n\u001b[0;32m   1167\u001b[0m             \u001b[1;32mfor\u001b[0m \u001b[0mindex\u001b[0m \u001b[1;32min\u001b[0m \u001b[0mrange\u001b[0m\u001b[1;33m(\u001b[0m\u001b[1;36m0\u001b[0m\u001b[1;33m,\u001b[0m \u001b[1;36m10\u001b[0m\u001b[1;33m)\u001b[0m\u001b[1;33m:\u001b[0m\u001b[1;33m\u001b[0m\u001b[1;33m\u001b[0m\u001b[0m\n\u001b[0;32m   1168\u001b[0m                 \u001b[0mnumber\u001b[0m \u001b[1;33m=\u001b[0m \u001b[1;36m10\u001b[0m \u001b[1;33m**\u001b[0m \u001b[0mindex\u001b[0m\u001b[1;33m\u001b[0m\u001b[1;33m\u001b[0m\u001b[0m\n\u001b[1;32m-> 1169\u001b[1;33m                 \u001b[0mtime_number\u001b[0m \u001b[1;33m=\u001b[0m \u001b[0mtimer\u001b[0m\u001b[1;33m.\u001b[0m\u001b[0mtimeit\u001b[0m\u001b[1;33m(\u001b[0m\u001b[0mnumber\u001b[0m\u001b[1;33m)\u001b[0m\u001b[1;33m\u001b[0m\u001b[1;33m\u001b[0m\u001b[0m\n\u001b[0m\u001b[0;32m   1170\u001b[0m                 \u001b[1;32mif\u001b[0m \u001b[0mtime_number\u001b[0m \u001b[1;33m>=\u001b[0m \u001b[1;36m0.2\u001b[0m\u001b[1;33m:\u001b[0m\u001b[1;33m\u001b[0m\u001b[1;33m\u001b[0m\u001b[0m\n\u001b[0;32m   1171\u001b[0m                     \u001b[1;32mbreak\u001b[0m\u001b[1;33m\u001b[0m\u001b[1;33m\u001b[0m\u001b[0m\n",
      "\u001b[1;32mc:\\users\\gunnj\\miniconda3\\lib\\site-packages\\IPython\\core\\magics\\execution.py\u001b[0m in \u001b[0;36mtimeit\u001b[1;34m(self, number)\u001b[0m\n\u001b[0;32m    167\u001b[0m         \u001b[0mgc\u001b[0m\u001b[1;33m.\u001b[0m\u001b[0mdisable\u001b[0m\u001b[1;33m(\u001b[0m\u001b[1;33m)\u001b[0m\u001b[1;33m\u001b[0m\u001b[1;33m\u001b[0m\u001b[0m\n\u001b[0;32m    168\u001b[0m         \u001b[1;32mtry\u001b[0m\u001b[1;33m:\u001b[0m\u001b[1;33m\u001b[0m\u001b[1;33m\u001b[0m\u001b[0m\n\u001b[1;32m--> 169\u001b[1;33m             \u001b[0mtiming\u001b[0m \u001b[1;33m=\u001b[0m \u001b[0mself\u001b[0m\u001b[1;33m.\u001b[0m\u001b[0minner\u001b[0m\u001b[1;33m(\u001b[0m\u001b[0mit\u001b[0m\u001b[1;33m,\u001b[0m \u001b[0mself\u001b[0m\u001b[1;33m.\u001b[0m\u001b[0mtimer\u001b[0m\u001b[1;33m)\u001b[0m\u001b[1;33m\u001b[0m\u001b[1;33m\u001b[0m\u001b[0m\n\u001b[0m\u001b[0;32m    170\u001b[0m         \u001b[1;32mfinally\u001b[0m\u001b[1;33m:\u001b[0m\u001b[1;33m\u001b[0m\u001b[1;33m\u001b[0m\u001b[0m\n\u001b[0;32m    171\u001b[0m             \u001b[1;32mif\u001b[0m \u001b[0mgcold\u001b[0m\u001b[1;33m:\u001b[0m\u001b[1;33m\u001b[0m\u001b[1;33m\u001b[0m\u001b[0m\n",
      "\u001b[1;32m<magic-timeit>\u001b[0m in \u001b[0;36minner\u001b[1;34m(_it, _timer)\u001b[0m\n",
      "\u001b[1;32mc:\\users\\gunnj\\miniconda3\\lib\\site-packages\\numba\\core\\dispatcher.py\u001b[0m in \u001b[0;36m_compile_for_args\u001b[1;34m(self, *args, **kws)\u001b[0m\n\u001b[0;32m    412\u001b[0m                 \u001b[0me\u001b[0m\u001b[1;33m.\u001b[0m\u001b[0mpatch_message\u001b[0m\u001b[1;33m(\u001b[0m\u001b[0mmsg\u001b[0m\u001b[1;33m)\u001b[0m\u001b[1;33m\u001b[0m\u001b[1;33m\u001b[0m\u001b[0m\n\u001b[0;32m    413\u001b[0m \u001b[1;33m\u001b[0m\u001b[0m\n\u001b[1;32m--> 414\u001b[1;33m             \u001b[0merror_rewrite\u001b[0m\u001b[1;33m(\u001b[0m\u001b[0me\u001b[0m\u001b[1;33m,\u001b[0m \u001b[1;34m'typing'\u001b[0m\u001b[1;33m)\u001b[0m\u001b[1;33m\u001b[0m\u001b[1;33m\u001b[0m\u001b[0m\n\u001b[0m\u001b[0;32m    415\u001b[0m         \u001b[1;32mexcept\u001b[0m \u001b[0merrors\u001b[0m\u001b[1;33m.\u001b[0m\u001b[0mUnsupportedError\u001b[0m \u001b[1;32mas\u001b[0m \u001b[0me\u001b[0m\u001b[1;33m:\u001b[0m\u001b[1;33m\u001b[0m\u001b[1;33m\u001b[0m\u001b[0m\n\u001b[0;32m    416\u001b[0m             \u001b[1;31m# Something unsupported is present in the user code, add help info\u001b[0m\u001b[1;33m\u001b[0m\u001b[1;33m\u001b[0m\u001b[1;33m\u001b[0m\u001b[0m\n",
      "\u001b[1;32mc:\\users\\gunnj\\miniconda3\\lib\\site-packages\\numba\\core\\dispatcher.py\u001b[0m in \u001b[0;36merror_rewrite\u001b[1;34m(e, issue_type)\u001b[0m\n\u001b[0;32m    355\u001b[0m                 \u001b[1;32mraise\u001b[0m \u001b[0me\u001b[0m\u001b[1;33m\u001b[0m\u001b[1;33m\u001b[0m\u001b[0m\n\u001b[0;32m    356\u001b[0m             \u001b[1;32melse\u001b[0m\u001b[1;33m:\u001b[0m\u001b[1;33m\u001b[0m\u001b[1;33m\u001b[0m\u001b[0m\n\u001b[1;32m--> 357\u001b[1;33m                 \u001b[1;32mraise\u001b[0m \u001b[0me\u001b[0m\u001b[1;33m.\u001b[0m\u001b[0mwith_traceback\u001b[0m\u001b[1;33m(\u001b[0m\u001b[1;32mNone\u001b[0m\u001b[1;33m)\u001b[0m\u001b[1;33m\u001b[0m\u001b[1;33m\u001b[0m\u001b[0m\n\u001b[0m\u001b[0;32m    358\u001b[0m \u001b[1;33m\u001b[0m\u001b[0m\n\u001b[0;32m    359\u001b[0m         \u001b[0margtypes\u001b[0m \u001b[1;33m=\u001b[0m \u001b[1;33m[\u001b[0m\u001b[1;33m]\u001b[0m\u001b[1;33m\u001b[0m\u001b[1;33m\u001b[0m\u001b[0m\n",
      "\u001b[1;31mTypingError\u001b[0m: Failed in nopython mode pipeline (step: nopython frontend)\n\u001b[1m\u001b[1mUnknown attribute 'erfc' of type Module(<module 'scipy.special' from 'c:\\\\users\\\\gunnj\\\\miniconda3\\\\lib\\\\site-packages\\\\scipy\\\\special\\\\__init__.py'>)\n\u001b[1m\nFile \"<magic-timeit>\", line 11:\u001b[0m\n\u001b[1m<source missing, REPL/exec in use?>\u001b[0m\n\u001b[0m\n\u001b[0m\u001b[1mDuring: typing of get attribute at <magic-timeit> (11)\u001b[0m\n\u001b[1m\nFile \"<magic-timeit>\", line 11:\u001b[0m\n\u001b[1m<source missing, REPL/exec in use?>\u001b[0m\n"
     ]
    }
   ],
   "source": [
    "%%timeit \n",
    "@jit(nopython=True)\n",
    "def compute_trunc_likes(x, mu):\n",
    "    global tau, bounds, which_param\n",
    "\n",
    "    if tau <= 0:\n",
    "        raise ValueError('Tau is <= 0!')\n",
    "\n",
    "    # This ugly thing below is a manifestation of log(1 ./ (tau .* (normcdf((bounds(which_param, 2) - mu) ./ tau) -\n",
    "    # normcdf((bounds(which_param, 1) - mu) ./ tau))) .* normpdf((x - mu) ./ tau)) Refer to\n",
    "    # http://en.wikipedia.org/wiki/Truncated_normal_distribution for the truncated normal distribution\n",
    "    log_likelihood = -(np.log(tau) + np.log(np.multiply(0.5, special.erfc(\n",
    "        -np.divide(bounds[which_param, 1] - mu, np.multiply(tau, math.sqrt(2))))) + (np.multiply(-0.5, special.erfc(\n",
    "            -np.divide(bounds[which_param, 0] - mu, np.multiply(tau, math.sqrt(2)))))))) + np.multiply(\n",
    "            -.5, np.log(2) + np.log(np.pi)) - (np.divide(x - mu, tau/np.sqrt(.5)) ** 2)\n",
    "    return log_likelihood\n",
    "\n",
    "compute_trunc_likes(nth_grp_lvl_param, nth_prev_iter_curve_param)"
   ]
  },
  {
   "cell_type": "markdown",
   "metadata": {},
   "source": [
    "`numba` complains about `special.erfc`. Kind of odd! But resources like [this one](https://github.com/numba/numba/issues/3086) suggest that `numba` just doesn't support that function. Okay. It does apparently support math.erfc. Should I try it?"
   ]
  },
  {
   "cell_type": "markdown",
   "metadata": {},
   "source": [
    "### Comparing math and special erfc"
   ]
  },
  {
   "cell_type": "code",
   "execution_count": 4,
   "metadata": {
    "execution": {
     "iopub.execute_input": "2021-01-04T05:41:25.027565Z",
     "iopub.status.busy": "2021-01-04T05:41:25.027565Z",
     "iopub.status.idle": "2021-01-04T05:41:30.251562Z",
     "shell.execute_reply": "2021-01-04T05:41:30.250557Z",
     "shell.execute_reply.started": "2021-01-04T05:41:25.027565Z"
    }
   },
   "outputs": [
    {
     "name": "stdout",
     "output_type": "stream",
     "text": [
      "6.36 µs ± 165 ns per loop (mean ± std. dev. of 7 runs, 100000 loops each)\n"
     ]
    }
   ],
   "source": [
    "%%timeit\n",
    "def compute_trunc_likes(x, mu):\n",
    "    global tau, bounds, which_param\n",
    "\n",
    "    if tau <= 0:\n",
    "        raise ValueError('Tau is <= 0!')\n",
    "\n",
    "    special.erfc(-np.divide(bounds[which_param, 1] - mu, np.multiply(tau, math.sqrt(2))))\n",
    "    \n",
    "compute_trunc_likes(nth_grp_lvl_param, nth_prev_iter_curve_param)"
   ]
  },
  {
   "cell_type": "code",
   "execution_count": 5,
   "metadata": {
    "execution": {
     "iopub.execute_input": "2021-01-04T05:41:31.699059Z",
     "iopub.status.busy": "2021-01-04T05:41:31.699059Z",
     "iopub.status.idle": "2021-01-04T05:41:31.724560Z",
     "shell.execute_reply": "2021-01-04T05:41:31.723563Z",
     "shell.execute_reply.started": "2021-01-04T05:41:31.699059Z"
    }
   },
   "outputs": [
    {
     "ename": "TypeError",
     "evalue": "only size-1 arrays can be converted to Python scalars",
     "output_type": "error",
     "traceback": [
      "\u001b[1;31m---------------------------------------------------------------------------\u001b[0m",
      "\u001b[1;31mTypeError\u001b[0m                                 Traceback (most recent call last)",
      "\u001b[1;32m<ipython-input-5-dea6b6e489cf>\u001b[0m in \u001b[0;36m<module>\u001b[1;34m\u001b[0m\n\u001b[1;32m----> 1\u001b[1;33m \u001b[0mget_ipython\u001b[0m\u001b[1;33m(\u001b[0m\u001b[1;33m)\u001b[0m\u001b[1;33m.\u001b[0m\u001b[0mrun_cell_magic\u001b[0m\u001b[1;33m(\u001b[0m\u001b[1;34m'timeit'\u001b[0m\u001b[1;33m,\u001b[0m \u001b[1;34m''\u001b[0m\u001b[1;33m,\u001b[0m \u001b[1;34m\"import math\\ndef compute_trunc_likes(x, mu):\\n    global tau, bounds, which_param\\n\\n    if tau <= 0:\\n        raise ValueError('Tau is <= 0!')\\n\\n    math.erfc(-np.divide(bounds[which_param, 1] - mu, np.multiply(tau, math.sqrt(2))))\\n    \\ncompute_trunc_likes(nth_grp_lvl_param, nth_prev_iter_curve_param)\\n\"\u001b[0m\u001b[1;33m)\u001b[0m\u001b[1;33m\u001b[0m\u001b[1;33m\u001b[0m\u001b[0m\n\u001b[0m",
      "\u001b[1;32mc:\\users\\gunnj\\miniconda3\\lib\\site-packages\\IPython\\core\\interactiveshell.py\u001b[0m in \u001b[0;36mrun_cell_magic\u001b[1;34m(self, magic_name, line, cell)\u001b[0m\n\u001b[0;32m   2380\u001b[0m             \u001b[1;32mwith\u001b[0m \u001b[0mself\u001b[0m\u001b[1;33m.\u001b[0m\u001b[0mbuiltin_trap\u001b[0m\u001b[1;33m:\u001b[0m\u001b[1;33m\u001b[0m\u001b[1;33m\u001b[0m\u001b[0m\n\u001b[0;32m   2381\u001b[0m                 \u001b[0margs\u001b[0m \u001b[1;33m=\u001b[0m \u001b[1;33m(\u001b[0m\u001b[0mmagic_arg_s\u001b[0m\u001b[1;33m,\u001b[0m \u001b[0mcell\u001b[0m\u001b[1;33m)\u001b[0m\u001b[1;33m\u001b[0m\u001b[1;33m\u001b[0m\u001b[0m\n\u001b[1;32m-> 2382\u001b[1;33m                 \u001b[0mresult\u001b[0m \u001b[1;33m=\u001b[0m \u001b[0mfn\u001b[0m\u001b[1;33m(\u001b[0m\u001b[1;33m*\u001b[0m\u001b[0margs\u001b[0m\u001b[1;33m,\u001b[0m \u001b[1;33m**\u001b[0m\u001b[0mkwargs\u001b[0m\u001b[1;33m)\u001b[0m\u001b[1;33m\u001b[0m\u001b[1;33m\u001b[0m\u001b[0m\n\u001b[0m\u001b[0;32m   2383\u001b[0m             \u001b[1;32mreturn\u001b[0m \u001b[0mresult\u001b[0m\u001b[1;33m\u001b[0m\u001b[1;33m\u001b[0m\u001b[0m\n\u001b[0;32m   2384\u001b[0m \u001b[1;33m\u001b[0m\u001b[0m\n",
      "\u001b[1;32m<decorator-gen-54>\u001b[0m in \u001b[0;36mtimeit\u001b[1;34m(self, line, cell, local_ns)\u001b[0m\n",
      "\u001b[1;32mc:\\users\\gunnj\\miniconda3\\lib\\site-packages\\IPython\\core\\magic.py\u001b[0m in \u001b[0;36m<lambda>\u001b[1;34m(f, *a, **k)\u001b[0m\n\u001b[0;32m    185\u001b[0m     \u001b[1;31m# but it's overkill for just that one bit of state.\u001b[0m\u001b[1;33m\u001b[0m\u001b[1;33m\u001b[0m\u001b[1;33m\u001b[0m\u001b[0m\n\u001b[0;32m    186\u001b[0m     \u001b[1;32mdef\u001b[0m \u001b[0mmagic_deco\u001b[0m\u001b[1;33m(\u001b[0m\u001b[0marg\u001b[0m\u001b[1;33m)\u001b[0m\u001b[1;33m:\u001b[0m\u001b[1;33m\u001b[0m\u001b[1;33m\u001b[0m\u001b[0m\n\u001b[1;32m--> 187\u001b[1;33m         \u001b[0mcall\u001b[0m \u001b[1;33m=\u001b[0m \u001b[1;32mlambda\u001b[0m \u001b[0mf\u001b[0m\u001b[1;33m,\u001b[0m \u001b[1;33m*\u001b[0m\u001b[0ma\u001b[0m\u001b[1;33m,\u001b[0m \u001b[1;33m**\u001b[0m\u001b[0mk\u001b[0m\u001b[1;33m:\u001b[0m \u001b[0mf\u001b[0m\u001b[1;33m(\u001b[0m\u001b[1;33m*\u001b[0m\u001b[0ma\u001b[0m\u001b[1;33m,\u001b[0m \u001b[1;33m**\u001b[0m\u001b[0mk\u001b[0m\u001b[1;33m)\u001b[0m\u001b[1;33m\u001b[0m\u001b[1;33m\u001b[0m\u001b[0m\n\u001b[0m\u001b[0;32m    188\u001b[0m \u001b[1;33m\u001b[0m\u001b[0m\n\u001b[0;32m    189\u001b[0m         \u001b[1;32mif\u001b[0m \u001b[0mcallable\u001b[0m\u001b[1;33m(\u001b[0m\u001b[0marg\u001b[0m\u001b[1;33m)\u001b[0m\u001b[1;33m:\u001b[0m\u001b[1;33m\u001b[0m\u001b[1;33m\u001b[0m\u001b[0m\n",
      "\u001b[1;32mc:\\users\\gunnj\\miniconda3\\lib\\site-packages\\IPython\\core\\magics\\execution.py\u001b[0m in \u001b[0;36mtimeit\u001b[1;34m(self, line, cell, local_ns)\u001b[0m\n\u001b[0;32m   1167\u001b[0m             \u001b[1;32mfor\u001b[0m \u001b[0mindex\u001b[0m \u001b[1;32min\u001b[0m \u001b[0mrange\u001b[0m\u001b[1;33m(\u001b[0m\u001b[1;36m0\u001b[0m\u001b[1;33m,\u001b[0m \u001b[1;36m10\u001b[0m\u001b[1;33m)\u001b[0m\u001b[1;33m:\u001b[0m\u001b[1;33m\u001b[0m\u001b[1;33m\u001b[0m\u001b[0m\n\u001b[0;32m   1168\u001b[0m                 \u001b[0mnumber\u001b[0m \u001b[1;33m=\u001b[0m \u001b[1;36m10\u001b[0m \u001b[1;33m**\u001b[0m \u001b[0mindex\u001b[0m\u001b[1;33m\u001b[0m\u001b[1;33m\u001b[0m\u001b[0m\n\u001b[1;32m-> 1169\u001b[1;33m                 \u001b[0mtime_number\u001b[0m \u001b[1;33m=\u001b[0m \u001b[0mtimer\u001b[0m\u001b[1;33m.\u001b[0m\u001b[0mtimeit\u001b[0m\u001b[1;33m(\u001b[0m\u001b[0mnumber\u001b[0m\u001b[1;33m)\u001b[0m\u001b[1;33m\u001b[0m\u001b[1;33m\u001b[0m\u001b[0m\n\u001b[0m\u001b[0;32m   1170\u001b[0m                 \u001b[1;32mif\u001b[0m \u001b[0mtime_number\u001b[0m \u001b[1;33m>=\u001b[0m \u001b[1;36m0.2\u001b[0m\u001b[1;33m:\u001b[0m\u001b[1;33m\u001b[0m\u001b[1;33m\u001b[0m\u001b[0m\n\u001b[0;32m   1171\u001b[0m                     \u001b[1;32mbreak\u001b[0m\u001b[1;33m\u001b[0m\u001b[1;33m\u001b[0m\u001b[0m\n",
      "\u001b[1;32mc:\\users\\gunnj\\miniconda3\\lib\\site-packages\\IPython\\core\\magics\\execution.py\u001b[0m in \u001b[0;36mtimeit\u001b[1;34m(self, number)\u001b[0m\n\u001b[0;32m    167\u001b[0m         \u001b[0mgc\u001b[0m\u001b[1;33m.\u001b[0m\u001b[0mdisable\u001b[0m\u001b[1;33m(\u001b[0m\u001b[1;33m)\u001b[0m\u001b[1;33m\u001b[0m\u001b[1;33m\u001b[0m\u001b[0m\n\u001b[0;32m    168\u001b[0m         \u001b[1;32mtry\u001b[0m\u001b[1;33m:\u001b[0m\u001b[1;33m\u001b[0m\u001b[1;33m\u001b[0m\u001b[0m\n\u001b[1;32m--> 169\u001b[1;33m             \u001b[0mtiming\u001b[0m \u001b[1;33m=\u001b[0m \u001b[0mself\u001b[0m\u001b[1;33m.\u001b[0m\u001b[0minner\u001b[0m\u001b[1;33m(\u001b[0m\u001b[0mit\u001b[0m\u001b[1;33m,\u001b[0m \u001b[0mself\u001b[0m\u001b[1;33m.\u001b[0m\u001b[0mtimer\u001b[0m\u001b[1;33m)\u001b[0m\u001b[1;33m\u001b[0m\u001b[1;33m\u001b[0m\u001b[0m\n\u001b[0m\u001b[0;32m    170\u001b[0m         \u001b[1;32mfinally\u001b[0m\u001b[1;33m:\u001b[0m\u001b[1;33m\u001b[0m\u001b[1;33m\u001b[0m\u001b[0m\n\u001b[0;32m    171\u001b[0m             \u001b[1;32mif\u001b[0m \u001b[0mgcold\u001b[0m\u001b[1;33m:\u001b[0m\u001b[1;33m\u001b[0m\u001b[1;33m\u001b[0m\u001b[0m\n",
      "\u001b[1;32m<magic-timeit>\u001b[0m in \u001b[0;36minner\u001b[1;34m(_it, _timer)\u001b[0m\n",
      "\u001b[1;32m<magic-timeit>\u001b[0m in \u001b[0;36mcompute_trunc_likes\u001b[1;34m(x, mu)\u001b[0m\n",
      "\u001b[1;31mTypeError\u001b[0m: only size-1 arrays can be converted to Python scalars"
     ]
    }
   ],
   "source": [
    "%%timeit\n",
    "import math\n",
    "def compute_trunc_likes(x, mu):\n",
    "    global tau, bounds, which_param\n",
    "\n",
    "    if tau <= 0:\n",
    "        raise ValueError('Tau is <= 0!')\n",
    "\n",
    "    math.erfc(-np.divide(bounds[which_param, 1] - mu, np.multiply(tau, math.sqrt(2))))\n",
    "    \n",
    "compute_trunc_likes(nth_grp_lvl_param, nth_prev_iter_curve_param)"
   ]
  },
  {
   "cell_type": "markdown",
   "metadata": {},
   "source": [
    "`math.erfc` is not vectorized. I need a vectorized version of `erfc`. Apparently I'm able to make one. Okay..."
   ]
  },
  {
   "cell_type": "code",
   "execution_count": 7,
   "metadata": {
    "execution": {
     "iopub.execute_input": "2021-01-04T08:12:28.400559Z",
     "iopub.status.busy": "2021-01-04T08:12:28.400559Z",
     "iopub.status.idle": "2021-01-04T08:12:28.632057Z",
     "shell.execute_reply": "2021-01-04T08:12:28.631065Z",
     "shell.execute_reply.started": "2021-01-04T08:12:28.400559Z"
    }
   },
   "outputs": [],
   "source": [
    "from numba import vectorize, float64, njit\n",
    "\n",
    "@vectorize([float64(float64)])\n",
    "def erfc(x):\n",
    "    return math.erfc(x)"
   ]
  },
  {
   "cell_type": "code",
   "execution_count": 10,
   "metadata": {
    "execution": {
     "iopub.execute_input": "2021-01-04T05:42:35.713559Z",
     "iopub.status.busy": "2021-01-04T05:42:35.713060Z",
     "iopub.status.idle": "2021-01-04T05:42:35.787558Z",
     "shell.execute_reply": "2021-01-04T05:42:35.786557Z",
     "shell.execute_reply.started": "2021-01-04T05:42:35.713559Z"
    }
   },
   "outputs": [],
   "source": [
    "def compute_trunc_likes(x, mu):\n",
    "    global tau, bounds, which_param\n",
    "\n",
    "    if tau <= 0:\n",
    "        raise ValueError('Tau is <= 0!')\n",
    "\n",
    "    erfc(-np.divide(bounds[which_param, 1] - mu, np.multiply(tau, math.sqrt(2))))\n",
    "    \n",
    "compute_trunc_likes(nth_grp_lvl_param, nth_prev_iter_curve_param)"
   ]
  },
  {
   "cell_type": "code",
   "execution_count": 11,
   "metadata": {
    "execution": {
     "iopub.execute_input": "2021-01-04T05:42:46.487059Z",
     "iopub.status.busy": "2021-01-04T05:42:46.486560Z",
     "iopub.status.idle": "2021-01-04T05:42:51.323061Z",
     "shell.execute_reply": "2021-01-04T05:42:51.322058Z",
     "shell.execute_reply.started": "2021-01-04T05:42:46.487059Z"
    }
   },
   "outputs": [
    {
     "name": "stdout",
     "output_type": "stream",
     "text": [
      "5.8 µs ± 110 ns per loop (mean ± std. dev. of 7 runs, 100000 loops each)\n"
     ]
    }
   ],
   "source": [
    "%%timeit\n",
    "    \n",
    "compute_trunc_likes(nth_grp_lvl_param, nth_prev_iter_curve_param)"
   ]
  },
  {
   "cell_type": "markdown",
   "metadata": {},
   "source": [
    "My vectorized `erfc` function is somewhat faster than the original `special.erfc` function."
   ]
  },
  {
   "cell_type": "markdown",
   "metadata": {},
   "source": [
    "## Decorator With Vectorized math.erfc"
   ]
  },
  {
   "cell_type": "code",
   "execution_count": 68,
   "metadata": {
    "execution": {
     "iopub.execute_input": "2021-01-04T06:28:35.449558Z",
     "iopub.status.busy": "2021-01-04T06:28:35.449558Z",
     "iopub.status.idle": "2021-01-04T06:28:36.293560Z",
     "shell.execute_reply": "2021-01-04T06:28:36.292559Z",
     "shell.execute_reply.started": "2021-01-04T06:28:35.449558Z"
    }
   },
   "outputs": [
    {
     "name": "stdout",
     "output_type": "stream",
     "text": [
      "Elapsed (with compilation) = 0.008000850677490234\n",
      "Elapsed (after compilation) = 0.011001825332641602\n"
     ]
    }
   ],
   "source": [
    "import time\n",
    "\n",
    "@njit(float64[:,:](float64[:,:], float64[:]), nogil=True,parallel=True, fastmath=True)\n",
    "def compute_trunc_likes(x, mu):\n",
    "    global tau, bounds, which_param\n",
    "\n",
    "    if tau <= 0:\n",
    "        raise ValueError('Tau is <= 0!')\n",
    "\n",
    "    # This ugly thing below is a manifestation of log(1 ./ (tau .* (normcdf((bounds(which_param, 2) - mu) ./ tau) -\n",
    "    # normcdf((bounds(which_param, 1) - mu) ./ tau))) .* normpdf((x - mu) ./ tau)) Refer to\n",
    "    # http://en.wikipedia.org/wiki/Truncated_normal_distribution for the truncated normal distribution\n",
    "    log_likelihood = -(np.log(tau) + np.log(np.multiply(0.5, erfc(\n",
    "        -np.divide(bounds[which_param, 1] - mu, np.multiply(tau, np.sqrt(2))))) + (np.multiply(-0.5, erfc(\n",
    "            -np.divide(bounds[which_param, 0] - mu, np.multiply(tau, np.sqrt(2)))))))) + np.multiply(\n",
    "            -.5, np.log(2) + np.log(np.pi)) - (np.square(np.divide(x - mu, tau/np.sqrt(.5))))\n",
    "    return log_likelihood\n",
    "\n",
    "# DO NOT REPORT THIS... COMPILATION TIME IS INCLUDED IN THE EXECUTION TIME!\n",
    "start = time.time()\n",
    "compute_trunc_likes(nth_grp_lvl_param, nth_prev_iter_curve_param)\n",
    "end = time.time()\n",
    "print(\"Elapsed (with compilation) = %s\" % (end - start))\n",
    "\n",
    "# NOW THE FUNCTION IS COMPILED, RE-TIME IT EXECUTING FROM CACHE\n",
    "start = time.time()\n",
    "compute_trunc_likes(nth_grp_lvl_param, nth_prev_iter_curve_param)\n",
    "end = time.time()\n",
    "print(\"Elapsed (after compilation) = %s\" % (end - start))"
   ]
  },
  {
   "cell_type": "code",
   "execution_count": 69,
   "metadata": {
    "execution": {
     "iopub.execute_input": "2021-01-04T06:28:36.327558Z",
     "iopub.status.busy": "2021-01-04T06:28:36.327057Z",
     "iopub.status.idle": "2021-01-04T06:28:42.536061Z",
     "shell.execute_reply": "2021-01-04T06:28:42.535059Z",
     "shell.execute_reply.started": "2021-01-04T06:28:36.327558Z"
    }
   },
   "outputs": [
    {
     "name": "stdout",
     "output_type": "stream",
     "text": [
      "7.47 ms ± 81.1 µs per loop (mean ± std. dev. of 7 runs, 100 loops each)\n"
     ]
    }
   ],
   "source": [
    "%%timeit \n",
    "compute_trunc_likes(nth_grp_lvl_param, nth_prev_iter_curve_param)"
   ]
  },
  {
   "cell_type": "markdown",
   "metadata": {},
   "source": [
    "Without parallelization, it takes a lot longer - almost ten times! With parallelization, it's 32 ms, compared to my original 26ms. And `fastmath` does nothing. Neither does `nogil`. Neither does eager compilation (telling Numba the function signature I'm expecting). How odd! Stuff that causes a switch to object mode actually speeds up my code, sadly. "
   ]
  },
  {
   "cell_type": "markdown",
   "metadata": {
    "execution": {
     "iopub.execute_input": "2021-01-04T06:02:41.323058Z",
     "iopub.status.busy": "2021-01-04T06:02:41.323058Z",
     "iopub.status.idle": "2021-01-04T06:02:41.344059Z",
     "shell.execute_reply": "2021-01-04T06:02:41.343058Z",
     "shell.execute_reply.started": "2021-01-04T06:02:41.323058Z"
    }
   },
   "source": [
    "When I switch back to numpy functions for my squaring, square roots, etc, performance improves substantially. It seems I should almost default to numpy when using jit. Runtime is now 7ms!"
   ]
  },
  {
   "cell_type": "markdown",
   "metadata": {},
   "source": [
    "# Review\n",
    "Let's reconsider all those settings I explored for this."
   ]
  },
  {
   "cell_type": "markdown",
   "metadata": {},
   "source": [
    "## Vanilla njit"
   ]
  },
  {
   "cell_type": "code",
   "execution_count": 3,
   "metadata": {
    "execution": {
     "iopub.execute_input": "2021-01-04T06:38:18.724559Z",
     "iopub.status.busy": "2021-01-04T06:38:18.724559Z",
     "iopub.status.idle": "2021-01-04T06:38:19.615066Z",
     "shell.execute_reply": "2021-01-04T06:38:19.614067Z",
     "shell.execute_reply.started": "2021-01-04T06:38:18.724559Z"
    }
   },
   "outputs": [
    {
     "name": "stdout",
     "output_type": "stream",
     "text": [
      "Elapsed (with compilation) = 0.6515004634857178\n",
      "Elapsed (after compilation) = 0.22950029373168945\n"
     ]
    }
   ],
   "source": [
    "import time \n",
    "\n",
    "@njit\n",
    "def compute_trunc_likes(x, mu):\n",
    "    global tau, bounds, which_param\n",
    "\n",
    "    if tau <= 0:\n",
    "        raise ValueError('Tau is <= 0!')\n",
    "\n",
    "    # This ugly thing below is a manifestation of log(1 ./ (tau .* (normcdf((bounds(which_param, 2) - mu) ./ tau) -\n",
    "    # normcdf((bounds(which_param, 1) - mu) ./ tau))) .* normpdf((x - mu) ./ tau)) Refer to\n",
    "    # http://en.wikipedia.org/wiki/Truncated_normal_distribution for the truncated normal distribution\n",
    "    log_likelihood = -(np.log(tau) + np.log(np.multiply(0.5, erfc(\n",
    "        -np.divide(bounds[which_param, 1] - mu, np.multiply(tau, np.sqrt(2))))) + (np.multiply(-0.5, erfc(\n",
    "            -np.divide(bounds[which_param, 0] - mu, np.multiply(tau, np.sqrt(2)))))))) + np.multiply(\n",
    "            -.5, np.log(2) + np.log(np.pi)) - (np.square(np.divide(x - mu, tau/np.sqrt(.5))))\n",
    "    return log_likelihood\n",
    "\n",
    "# DO NOT REPORT THIS... COMPILATION TIME IS INCLUDED IN THE EXECUTION TIME!\n",
    "start = time.time()\n",
    "compute_trunc_likes(nth_grp_lvl_param, nth_prev_iter_curve_param)\n",
    "end = time.time()\n",
    "print(\"Elapsed (with compilation) = %s\" % (end - start))\n",
    "\n",
    "# NOW THE FUNCTION IS COMPILED, RE-TIME IT EXECUTING FROM CACHE\n",
    "start = time.time()\n",
    "compute_trunc_likes(nth_grp_lvl_param, nth_prev_iter_curve_param)\n",
    "end = time.time()\n",
    "print(\"Elapsed (after compilation) = %s\" % (end - start))"
   ]
  },
  {
   "cell_type": "code",
   "execution_count": 4,
   "metadata": {
    "execution": {
     "iopub.execute_input": "2021-01-04T06:38:29.515056Z",
     "iopub.status.busy": "2021-01-04T06:38:29.515056Z",
     "iopub.status.idle": "2021-01-04T06:38:31.394567Z",
     "shell.execute_reply": "2021-01-04T06:38:31.393557Z",
     "shell.execute_reply.started": "2021-01-04T06:38:29.515056Z"
    }
   },
   "outputs": [
    {
     "name": "stdout",
     "output_type": "stream",
     "text": [
      "232 ms ± 1.86 ms per loop (mean ± std. dev. of 7 runs, 1 loop each)\n"
     ]
    }
   ],
   "source": [
    "%%timeit \n",
    "compute_trunc_likes(nth_grp_lvl_param, nth_prev_iter_curve_param)"
   ]
  },
  {
   "cell_type": "markdown",
   "metadata": {},
   "source": [
    "## Just One Option"
   ]
  },
  {
   "cell_type": "markdown",
   "metadata": {},
   "source": [
    "### njit with eager compilation alone"
   ]
  },
  {
   "cell_type": "code",
   "execution_count": 5,
   "metadata": {
    "execution": {
     "iopub.execute_input": "2021-01-04T06:38:32.958066Z",
     "iopub.status.busy": "2021-01-04T06:38:32.957567Z",
     "iopub.status.idle": "2021-01-04T06:38:33.781058Z",
     "shell.execute_reply": "2021-01-04T06:38:33.780066Z",
     "shell.execute_reply.started": "2021-01-04T06:38:32.958066Z"
    }
   },
   "outputs": [
    {
     "name": "stdout",
     "output_type": "stream",
     "text": [
      "Elapsed (with compilation) = 0.23350048065185547\n",
      "Elapsed (after compilation) = 0.23749947547912598\n"
     ]
    }
   ],
   "source": [
    "@njit(float64[:,:](float64[:,:], float64[:]))\n",
    "def compute_trunc_likes(x, mu):\n",
    "    global tau, bounds, which_param\n",
    "\n",
    "    if tau <= 0:\n",
    "        raise ValueError('Tau is <= 0!')\n",
    "\n",
    "    # This ugly thing below is a manifestation of log(1 ./ (tau .* (normcdf((bounds(which_param, 2) - mu) ./ tau) -\n",
    "    # normcdf((bounds(which_param, 1) - mu) ./ tau))) .* normpdf((x - mu) ./ tau)) Refer to\n",
    "    # http://en.wikipedia.org/wiki/Truncated_normal_distribution for the truncated normal distribution\n",
    "    log_likelihood = -(np.log(tau) + np.log(np.multiply(0.5, erfc(\n",
    "        -np.divide(bounds[which_param, 1] - mu, np.multiply(tau, np.sqrt(2))))) + (np.multiply(-0.5, erfc(\n",
    "            -np.divide(bounds[which_param, 0] - mu, np.multiply(tau, np.sqrt(2)))))))) + np.multiply(\n",
    "            -.5, np.log(2) + np.log(np.pi)) - (np.square(np.divide(x - mu, tau/np.sqrt(.5))))\n",
    "    return log_likelihood\n",
    "\n",
    "# DO NOT REPORT THIS... COMPILATION TIME IS INCLUDED IN THE EXECUTION TIME!\n",
    "start = time.time()\n",
    "compute_trunc_likes(nth_grp_lvl_param, nth_prev_iter_curve_param)\n",
    "end = time.time()\n",
    "print(\"Elapsed (with compilation) = %s\" % (end - start))\n",
    "\n",
    "# NOW THE FUNCTION IS COMPILED, RE-TIME IT EXECUTING FROM CACHE\n",
    "start = time.time()\n",
    "compute_trunc_likes(nth_grp_lvl_param, nth_prev_iter_curve_param)\n",
    "end = time.time()\n",
    "print(\"Elapsed (after compilation) = %s\" % (end - start))"
   ]
  },
  {
   "cell_type": "code",
   "execution_count": 6,
   "metadata": {
    "execution": {
     "iopub.execute_input": "2021-01-04T06:38:33.798560Z",
     "iopub.status.busy": "2021-01-04T06:38:33.798059Z",
     "iopub.status.idle": "2021-01-04T06:38:35.904560Z",
     "shell.execute_reply": "2021-01-04T06:38:35.903559Z",
     "shell.execute_reply.started": "2021-01-04T06:38:33.798560Z"
    }
   },
   "outputs": [
    {
     "name": "stdout",
     "output_type": "stream",
     "text": [
      "261 ms ± 14.1 ms per loop (mean ± std. dev. of 7 runs, 1 loop each)\n"
     ]
    }
   ],
   "source": [
    "%%timeit \n",
    "compute_trunc_likes(nth_grp_lvl_param, nth_prev_iter_curve_param)"
   ]
  },
  {
   "cell_type": "markdown",
   "metadata": {},
   "source": [
    "### njit with parallel alone"
   ]
  },
  {
   "cell_type": "code",
   "execution_count": 7,
   "metadata": {
    "execution": {
     "iopub.execute_input": "2021-01-04T06:38:35.906066Z",
     "iopub.status.busy": "2021-01-04T06:38:35.905566Z",
     "iopub.status.idle": "2021-01-04T06:38:36.819069Z",
     "shell.execute_reply": "2021-01-04T06:38:36.817558Z",
     "shell.execute_reply.started": "2021-01-04T06:38:35.906066Z"
    }
   },
   "outputs": [
    {
     "name": "stdout",
     "output_type": "stream",
     "text": [
      "Elapsed (with compilation) = 0.8864912986755371\n",
      "Elapsed (after compilation) = 0.008002996444702148\n"
     ]
    }
   ],
   "source": [
    "@njit(parallel=True)\n",
    "def compute_trunc_likes(x, mu):\n",
    "    global tau, bounds, which_param\n",
    "\n",
    "    if tau <= 0:\n",
    "        raise ValueError('Tau is <= 0!')\n",
    "\n",
    "    # This ugly thing below is a manifestation of log(1 ./ (tau .* (normcdf((bounds(which_param, 2) - mu) ./ tau) -\n",
    "    # normcdf((bounds(which_param, 1) - mu) ./ tau))) .* normpdf((x - mu) ./ tau)) Refer to\n",
    "    # http://en.wikipedia.org/wiki/Truncated_normal_distribution for the truncated normal distribution\n",
    "    log_likelihood = -(np.log(tau) + np.log(np.multiply(0.5, erfc(\n",
    "        -np.divide(bounds[which_param, 1] - mu, np.multiply(tau, np.sqrt(2))))) + (np.multiply(-0.5, erfc(\n",
    "            -np.divide(bounds[which_param, 0] - mu, np.multiply(tau, np.sqrt(2)))))))) + np.multiply(\n",
    "            -.5, np.log(2) + np.log(np.pi)) - (np.square(np.divide(x - mu, tau/np.sqrt(.5))))\n",
    "    return log_likelihood\n",
    "\n",
    "# DO NOT REPORT THIS... COMPILATION TIME IS INCLUDED IN THE EXECUTION TIME!\n",
    "start = time.time()\n",
    "compute_trunc_likes(nth_grp_lvl_param, nth_prev_iter_curve_param)\n",
    "end = time.time()\n",
    "print(\"Elapsed (with compilation) = %s\" % (end - start))\n",
    "\n",
    "# NOW THE FUNCTION IS COMPILED, RE-TIME IT EXECUTING FROM CACHE\n",
    "start = time.time()\n",
    "compute_trunc_likes(nth_grp_lvl_param, nth_prev_iter_curve_param)\n",
    "end = time.time()\n",
    "print(\"Elapsed (after compilation) = %s\" % (end - start))"
   ]
  },
  {
   "cell_type": "code",
   "execution_count": 8,
   "metadata": {
    "execution": {
     "iopub.execute_input": "2021-01-04T06:38:36.821060Z",
     "iopub.status.busy": "2021-01-04T06:38:36.820560Z",
     "iopub.status.idle": "2021-01-04T06:38:45.063559Z",
     "shell.execute_reply": "2021-01-04T06:38:45.062059Z",
     "shell.execute_reply.started": "2021-01-04T06:38:36.821060Z"
    }
   },
   "outputs": [
    {
     "name": "stdout",
     "output_type": "stream",
     "text": [
      "10 ms ± 421 µs per loop (mean ± std. dev. of 7 runs, 100 loops each)\n"
     ]
    }
   ],
   "source": [
    "%%timeit \n",
    "compute_trunc_likes(nth_grp_lvl_param, nth_prev_iter_curve_param)"
   ]
  },
  {
   "cell_type": "markdown",
   "metadata": {},
   "source": [
    "### njit with nogil alone"
   ]
  },
  {
   "cell_type": "code",
   "execution_count": 9,
   "metadata": {
    "execution": {
     "iopub.execute_input": "2021-01-04T06:38:45.065556Z",
     "iopub.status.busy": "2021-01-04T06:38:45.065056Z",
     "iopub.status.idle": "2021-01-04T06:38:45.884557Z",
     "shell.execute_reply": "2021-01-04T06:38:45.883557Z",
     "shell.execute_reply.started": "2021-01-04T06:38:45.065556Z"
    }
   },
   "outputs": [
    {
     "name": "stdout",
     "output_type": "stream",
     "text": [
      "Elapsed (with compilation) = 0.5515000820159912\n",
      "Elapsed (after compilation) = 0.23650074005126953\n"
     ]
    }
   ],
   "source": [
    "@njit(nogil=True)\n",
    "def compute_trunc_likes(x, mu):\n",
    "    global tau, bounds, which_param\n",
    "\n",
    "    if tau <= 0:\n",
    "        raise ValueError('Tau is <= 0!')\n",
    "\n",
    "    # This ugly thing below is a manifestation of log(1 ./ (tau .* (normcdf((bounds(which_param, 2) - mu) ./ tau) -\n",
    "    # normcdf((bounds(which_param, 1) - mu) ./ tau))) .* normpdf((x - mu) ./ tau)) Refer to\n",
    "    # http://en.wikipedia.org/wiki/Truncated_normal_distribution for the truncated normal distribution\n",
    "    log_likelihood = -(np.log(tau) + np.log(np.multiply(0.5, erfc(\n",
    "        -np.divide(bounds[which_param, 1] - mu, np.multiply(tau, np.sqrt(2))))) + (np.multiply(-0.5, erfc(\n",
    "            -np.divide(bounds[which_param, 0] - mu, np.multiply(tau, np.sqrt(2)))))))) + np.multiply(\n",
    "            -.5, np.log(2) + np.log(np.pi)) - (np.square(np.divide(x - mu, tau/np.sqrt(.5))))\n",
    "    return log_likelihood\n",
    "\n",
    "# DO NOT REPORT THIS... COMPILATION TIME IS INCLUDED IN THE EXECUTION TIME!\n",
    "start = time.time()\n",
    "compute_trunc_likes(nth_grp_lvl_param, nth_prev_iter_curve_param)\n",
    "end = time.time()\n",
    "print(\"Elapsed (with compilation) = %s\" % (end - start))\n",
    "\n",
    "# NOW THE FUNCTION IS COMPILED, RE-TIME IT EXECUTING FROM CACHE\n",
    "start = time.time()\n",
    "compute_trunc_likes(nth_grp_lvl_param, nth_prev_iter_curve_param)\n",
    "end = time.time()\n",
    "print(\"Elapsed (after compilation) = %s\" % (end - start))"
   ]
  },
  {
   "cell_type": "code",
   "execution_count": 10,
   "metadata": {
    "execution": {
     "iopub.execute_input": "2021-01-04T06:38:45.887561Z",
     "iopub.status.busy": "2021-01-04T06:38:45.887062Z",
     "iopub.status.idle": "2021-01-04T06:38:47.806563Z",
     "shell.execute_reply": "2021-01-04T06:38:47.805557Z",
     "shell.execute_reply.started": "2021-01-04T06:38:45.887062Z"
    }
   },
   "outputs": [
    {
     "name": "stdout",
     "output_type": "stream",
     "text": [
      "236 ms ± 4.49 ms per loop (mean ± std. dev. of 7 runs, 1 loop each)\n"
     ]
    }
   ],
   "source": [
    "%%timeit \n",
    "compute_trunc_likes(nth_grp_lvl_param, nth_prev_iter_curve_param)"
   ]
  },
  {
   "cell_type": "markdown",
   "metadata": {},
   "source": [
    "### njit with fastmath alone"
   ]
  },
  {
   "cell_type": "code",
   "execution_count": 11,
   "metadata": {
    "execution": {
     "iopub.execute_input": "2021-01-04T06:38:47.808063Z",
     "iopub.status.busy": "2021-01-04T06:38:47.808063Z",
     "iopub.status.idle": "2021-01-04T06:38:48.566557Z",
     "shell.execute_reply": "2021-01-04T06:38:48.565071Z",
     "shell.execute_reply.started": "2021-01-04T06:38:47.808063Z"
    }
   },
   "outputs": [
    {
     "name": "stdout",
     "output_type": "stream",
     "text": [
      "Elapsed (with compilation) = 0.5214905738830566\n",
      "Elapsed (after compilation) = 0.22350025177001953\n"
     ]
    }
   ],
   "source": [
    "@njit(fastmath=True)\n",
    "def compute_trunc_likes(x, mu):\n",
    "    global tau, bounds, which_param\n",
    "\n",
    "    if tau <= 0:\n",
    "        raise ValueError('Tau is <= 0!')\n",
    "\n",
    "    # This ugly thing below is a manifestation of log(1 ./ (tau .* (normcdf((bounds(which_param, 2) - mu) ./ tau) -\n",
    "    # normcdf((bounds(which_param, 1) - mu) ./ tau))) .* normpdf((x - mu) ./ tau)) Refer to\n",
    "    # http://en.wikipedia.org/wiki/Truncated_normal_distribution for the truncated normal distribution\n",
    "    log_likelihood = -(np.log(tau) + np.log(np.multiply(0.5, erfc(\n",
    "        -np.divide(bounds[which_param, 1] - mu, np.multiply(tau, np.sqrt(2))))) + (np.multiply(-0.5, erfc(\n",
    "            -np.divide(bounds[which_param, 0] - mu, np.multiply(tau, np.sqrt(2)))))))) + np.multiply(\n",
    "            -.5, np.log(2) + np.log(np.pi)) - (np.square(np.divide(x - mu, tau/np.sqrt(.5))))\n",
    "    return log_likelihood\n",
    "\n",
    "# DO NOT REPORT THIS... COMPILATION TIME IS INCLUDED IN THE EXECUTION TIME!\n",
    "start = time.time()\n",
    "compute_trunc_likes(nth_grp_lvl_param, nth_prev_iter_curve_param)\n",
    "end = time.time()\n",
    "print(\"Elapsed (with compilation) = %s\" % (end - start))\n",
    "\n",
    "# NOW THE FUNCTION IS COMPILED, RE-TIME IT EXECUTING FROM CACHE\n",
    "start = time.time()\n",
    "compute_trunc_likes(nth_grp_lvl_param, nth_prev_iter_curve_param)\n",
    "end = time.time()\n",
    "print(\"Elapsed (after compilation) = %s\" % (end - start))"
   ]
  },
  {
   "cell_type": "code",
   "execution_count": 12,
   "metadata": {
    "execution": {
     "iopub.execute_input": "2021-01-04T06:38:48.568065Z",
     "iopub.status.busy": "2021-01-04T06:38:48.567565Z",
     "iopub.status.idle": "2021-01-04T06:38:50.395557Z",
     "shell.execute_reply": "2021-01-04T06:38:50.394557Z",
     "shell.execute_reply.started": "2021-01-04T06:38:48.568065Z"
    }
   },
   "outputs": [
    {
     "name": "stdout",
     "output_type": "stream",
     "text": [
      "225 ms ± 2.81 ms per loop (mean ± std. dev. of 7 runs, 1 loop each)\n"
     ]
    }
   ],
   "source": [
    "%%timeit \n",
    "compute_trunc_likes(nth_grp_lvl_param, nth_prev_iter_curve_param)"
   ]
  },
  {
   "cell_type": "markdown",
   "metadata": {},
   "source": [
    "## Two Options"
   ]
  },
  {
   "cell_type": "markdown",
   "metadata": {},
   "source": [
    "### njit with eager compilation and nogil"
   ]
  },
  {
   "cell_type": "code",
   "execution_count": 13,
   "metadata": {
    "execution": {
     "iopub.execute_input": "2021-01-04T06:38:50.397060Z",
     "iopub.status.busy": "2021-01-04T06:38:50.397060Z",
     "iopub.status.idle": "2021-01-04T06:38:51.263558Z",
     "shell.execute_reply": "2021-01-04T06:38:51.262557Z",
     "shell.execute_reply.started": "2021-01-04T06:38:50.397060Z"
    }
   },
   "outputs": [
    {
     "name": "stdout",
     "output_type": "stream",
     "text": [
      "Elapsed (with compilation) = 0.23055243492126465\n",
      "Elapsed (after compilation) = 0.231001615524292\n"
     ]
    }
   ],
   "source": [
    "@njit(float64[:,:](float64[:,:], float64[:]), nogil=True)\n",
    "def compute_trunc_likes(x, mu):\n",
    "    global tau, bounds, which_param\n",
    "\n",
    "    if tau <= 0:\n",
    "        raise ValueError('Tau is <= 0!')\n",
    "\n",
    "    # This ugly thing below is a manifestation of log(1 ./ (tau .* (normcdf((bounds(which_param, 2) - mu) ./ tau) -\n",
    "    # normcdf((bounds(which_param, 1) - mu) ./ tau))) .* normpdf((x - mu) ./ tau)) Refer to\n",
    "    # http://en.wikipedia.org/wiki/Truncated_normal_distribution for the truncated normal distribution\n",
    "    log_likelihood = -(np.log(tau) + np.log(np.multiply(0.5, erfc(\n",
    "        -np.divide(bounds[which_param, 1] - mu, np.multiply(tau, np.sqrt(2))))) + (np.multiply(-0.5, erfc(\n",
    "            -np.divide(bounds[which_param, 0] - mu, np.multiply(tau, np.sqrt(2)))))))) + np.multiply(\n",
    "            -.5, np.log(2) + np.log(np.pi)) - (np.square(np.divide(x - mu, tau/np.sqrt(.5))))\n",
    "    return log_likelihood\n",
    "\n",
    "# DO NOT REPORT THIS... COMPILATION TIME IS INCLUDED IN THE EXECUTION TIME!\n",
    "start = time.time()\n",
    "compute_trunc_likes(nth_grp_lvl_param, nth_prev_iter_curve_param)\n",
    "end = time.time()\n",
    "print(\"Elapsed (with compilation) = %s\" % (end - start))\n",
    "\n",
    "# NOW THE FUNCTION IS COMPILED, RE-TIME IT EXECUTING FROM CACHE\n",
    "start = time.time()\n",
    "compute_trunc_likes(nth_grp_lvl_param, nth_prev_iter_curve_param)\n",
    "end = time.time()\n",
    "print(\"Elapsed (after compilation) = %s\" % (end - start))"
   ]
  },
  {
   "cell_type": "code",
   "execution_count": 14,
   "metadata": {
    "execution": {
     "iopub.execute_input": "2021-01-04T06:38:51.264566Z",
     "iopub.status.busy": "2021-01-04T06:38:51.264064Z",
     "iopub.status.idle": "2021-01-04T06:38:53.263059Z",
     "shell.execute_reply": "2021-01-04T06:38:53.262057Z",
     "shell.execute_reply.started": "2021-01-04T06:38:51.264566Z"
    }
   },
   "outputs": [
    {
     "name": "stdout",
     "output_type": "stream",
     "text": [
      "249 ms ± 12.8 ms per loop (mean ± std. dev. of 7 runs, 1 loop each)\n"
     ]
    }
   ],
   "source": [
    "%%timeit \n",
    "compute_trunc_likes(nth_grp_lvl_param, nth_prev_iter_curve_param)"
   ]
  },
  {
   "cell_type": "markdown",
   "metadata": {},
   "source": [
    "### njit with eager compilation and parallel"
   ]
  },
  {
   "cell_type": "code",
   "execution_count": 15,
   "metadata": {
    "execution": {
     "iopub.execute_input": "2021-01-04T06:38:53.264558Z",
     "iopub.status.busy": "2021-01-04T06:38:53.264558Z",
     "iopub.status.idle": "2021-01-04T06:38:54.023058Z",
     "shell.execute_reply": "2021-01-04T06:38:54.021565Z",
     "shell.execute_reply.started": "2021-01-04T06:38:53.264558Z"
    }
   },
   "outputs": [
    {
     "name": "stdout",
     "output_type": "stream",
     "text": [
      "Elapsed (with compilation) = 0.009999752044677734\n",
      "Elapsed (after compilation) = 0.008999109268188477\n"
     ]
    }
   ],
   "source": [
    "@njit(float64[:,:](float64[:,:], float64[:]), parallel=True)\n",
    "def compute_trunc_likes(x, mu):\n",
    "    global tau, bounds, which_param\n",
    "\n",
    "    if tau <= 0:\n",
    "        raise ValueError('Tau is <= 0!')\n",
    "\n",
    "    # This ugly thing below is a manifestation of log(1 ./ (tau .* (normcdf((bounds(which_param, 2) - mu) ./ tau) -\n",
    "    # normcdf((bounds(which_param, 1) - mu) ./ tau))) .* normpdf((x - mu) ./ tau)) Refer to\n",
    "    # http://en.wikipedia.org/wiki/Truncated_normal_distribution for the truncated normal distribution\n",
    "    log_likelihood = -(np.log(tau) + np.log(np.multiply(0.5, erfc(\n",
    "        -np.divide(bounds[which_param, 1] - mu, np.multiply(tau, np.sqrt(2))))) + (np.multiply(-0.5, erfc(\n",
    "            -np.divide(bounds[which_param, 0] - mu, np.multiply(tau, np.sqrt(2)))))))) + np.multiply(\n",
    "            -.5, np.log(2) + np.log(np.pi)) - (np.square(np.divide(x - mu, tau/np.sqrt(.5))))\n",
    "    return log_likelihood\n",
    "\n",
    "# DO NOT REPORT THIS... COMPILATION TIME IS INCLUDED IN THE EXECUTION TIME!\n",
    "start = time.time()\n",
    "compute_trunc_likes(nth_grp_lvl_param, nth_prev_iter_curve_param)\n",
    "end = time.time()\n",
    "print(\"Elapsed (with compilation) = %s\" % (end - start))\n",
    "\n",
    "# NOW THE FUNCTION IS COMPILED, RE-TIME IT EXECUTING FROM CACHE\n",
    "start = time.time()\n",
    "compute_trunc_likes(nth_grp_lvl_param, nth_prev_iter_curve_param)\n",
    "end = time.time()\n",
    "print(\"Elapsed (after compilation) = %s\" % (end - start))"
   ]
  },
  {
   "cell_type": "code",
   "execution_count": 16,
   "metadata": {
    "execution": {
     "iopub.execute_input": "2021-01-04T06:38:54.056059Z",
     "iopub.status.busy": "2021-01-04T06:38:54.056059Z",
     "iopub.status.idle": "2021-01-04T06:39:01.645058Z",
     "shell.execute_reply": "2021-01-04T06:39:01.643557Z",
     "shell.execute_reply.started": "2021-01-04T06:38:54.056059Z"
    }
   },
   "outputs": [
    {
     "name": "stdout",
     "output_type": "stream",
     "text": [
      "9.03 ms ± 503 µs per loop (mean ± std. dev. of 7 runs, 100 loops each)\n"
     ]
    }
   ],
   "source": [
    "%%timeit \n",
    "compute_trunc_likes(nth_grp_lvl_param, nth_prev_iter_curve_param)"
   ]
  },
  {
   "cell_type": "markdown",
   "metadata": {},
   "source": [
    "### njit with eager compilation and fastmath"
   ]
  },
  {
   "cell_type": "code",
   "execution_count": 17,
   "metadata": {
    "execution": {
     "iopub.execute_input": "2021-01-04T06:39:01.678061Z",
     "iopub.status.busy": "2021-01-04T06:39:01.677559Z",
     "iopub.status.idle": "2021-01-04T06:39:02.465559Z",
     "shell.execute_reply": "2021-01-04T06:39:02.464562Z",
     "shell.execute_reply.started": "2021-01-04T06:39:01.678061Z"
    }
   },
   "outputs": [
    {
     "name": "stdout",
     "output_type": "stream",
     "text": [
      "Elapsed (with compilation) = 0.2264997959136963\n",
      "Elapsed (after compilation) = 0.2265007495880127\n"
     ]
    }
   ],
   "source": [
    "@njit(float64[:,:](float64[:,:], float64[:]), fastmath=True)\n",
    "def compute_trunc_likes(x, mu):\n",
    "    global tau, bounds, which_param\n",
    "\n",
    "    if tau <= 0:\n",
    "        raise ValueError('Tau is <= 0!')\n",
    "\n",
    "    # This ugly thing below is a manifestation of log(1 ./ (tau .* (normcdf((bounds(which_param, 2) - mu) ./ tau) -\n",
    "    # normcdf((bounds(which_param, 1) - mu) ./ tau))) .* normpdf((x - mu) ./ tau)) Refer to\n",
    "    # http://en.wikipedia.org/wiki/Truncated_normal_distribution for the truncated normal distribution\n",
    "    log_likelihood = -(np.log(tau) + np.log(np.multiply(0.5, erfc(\n",
    "        -np.divide(bounds[which_param, 1] - mu, np.multiply(tau, np.sqrt(2))))) + (np.multiply(-0.5, erfc(\n",
    "            -np.divide(bounds[which_param, 0] - mu, np.multiply(tau, np.sqrt(2)))))))) + np.multiply(\n",
    "            -.5, np.log(2) + np.log(np.pi)) - (np.square(np.divide(x - mu, tau/np.sqrt(.5))))\n",
    "    return log_likelihood\n",
    "\n",
    "# DO NOT REPORT THIS... COMPILATION TIME IS INCLUDED IN THE EXECUTION TIME!\n",
    "start = time.time()\n",
    "compute_trunc_likes(nth_grp_lvl_param, nth_prev_iter_curve_param)\n",
    "end = time.time()\n",
    "print(\"Elapsed (with compilation) = %s\" % (end - start))\n",
    "\n",
    "# NOW THE FUNCTION IS COMPILED, RE-TIME IT EXECUTING FROM CACHE\n",
    "start = time.time()\n",
    "compute_trunc_likes(nth_grp_lvl_param, nth_prev_iter_curve_param)\n",
    "end = time.time()\n",
    "print(\"Elapsed (after compilation) = %s\" % (end - start))"
   ]
  },
  {
   "cell_type": "code",
   "execution_count": 18,
   "metadata": {
    "execution": {
     "iopub.execute_input": "2021-01-04T06:39:02.482559Z",
     "iopub.status.busy": "2021-01-04T06:39:02.482060Z",
     "iopub.status.idle": "2021-01-04T06:39:04.388061Z",
     "shell.execute_reply": "2021-01-04T06:39:04.387061Z",
     "shell.execute_reply.started": "2021-01-04T06:39:02.482559Z"
    }
   },
   "outputs": [
    {
     "name": "stdout",
     "output_type": "stream",
     "text": [
      "231 ms ± 6.75 ms per loop (mean ± std. dev. of 7 runs, 1 loop each)\n"
     ]
    }
   ],
   "source": [
    "%%timeit \n",
    "compute_trunc_likes(nth_grp_lvl_param, nth_prev_iter_curve_param)"
   ]
  },
  {
   "cell_type": "markdown",
   "metadata": {},
   "source": [
    "### njit with parallel and fastmath"
   ]
  },
  {
   "cell_type": "code",
   "execution_count": 19,
   "metadata": {
    "execution": {
     "iopub.execute_input": "2021-01-04T06:39:04.391561Z",
     "iopub.status.busy": "2021-01-04T06:39:04.391062Z",
     "iopub.status.idle": "2021-01-04T06:39:05.287060Z",
     "shell.execute_reply": "2021-01-04T06:39:05.286063Z",
     "shell.execute_reply.started": "2021-01-04T06:39:04.391561Z"
    }
   },
   "outputs": [
    {
     "name": "stdout",
     "output_type": "stream",
     "text": [
      "Elapsed (with compilation) = 0.8694961071014404\n",
      "Elapsed (after compilation) = 0.010997772216796875\n"
     ]
    }
   ],
   "source": [
    "@njit(parallel=True, fastmath=True)\n",
    "def compute_trunc_likes(x, mu):\n",
    "    global tau, bounds, which_param\n",
    "\n",
    "    if tau <= 0:\n",
    "        raise ValueError('Tau is <= 0!')\n",
    "\n",
    "    # This ugly thing below is a manifestation of log(1 ./ (tau .* (normcdf((bounds(which_param, 2) - mu) ./ tau) -\n",
    "    # normcdf((bounds(which_param, 1) - mu) ./ tau))) .* normpdf((x - mu) ./ tau)) Refer to\n",
    "    # http://en.wikipedia.org/wiki/Truncated_normal_distribution for the truncated normal distribution\n",
    "    log_likelihood = -(np.log(tau) + np.log(np.multiply(0.5, erfc(\n",
    "        -np.divide(bounds[which_param, 1] - mu, np.multiply(tau, np.sqrt(2))))) + (np.multiply(-0.5, erfc(\n",
    "            -np.divide(bounds[which_param, 0] - mu, np.multiply(tau, np.sqrt(2)))))))) + np.multiply(\n",
    "            -.5, np.log(2) + np.log(np.pi)) - (np.square(np.divide(x - mu, tau/np.sqrt(.5))))\n",
    "    return log_likelihood\n",
    "\n",
    "# DO NOT REPORT THIS... COMPILATION TIME IS INCLUDED IN THE EXECUTION TIME!\n",
    "start = time.time()\n",
    "compute_trunc_likes(nth_grp_lvl_param, nth_prev_iter_curve_param)\n",
    "end = time.time()\n",
    "print(\"Elapsed (with compilation) = %s\" % (end - start))\n",
    "\n",
    "# NOW THE FUNCTION IS COMPILED, RE-TIME IT EXECUTING FROM CACHE\n",
    "start = time.time()\n",
    "compute_trunc_likes(nth_grp_lvl_param, nth_prev_iter_curve_param)\n",
    "end = time.time()\n",
    "print(\"Elapsed (after compilation) = %s\" % (end - start))"
   ]
  },
  {
   "cell_type": "code",
   "execution_count": 20,
   "metadata": {
    "execution": {
     "iopub.execute_input": "2021-01-04T06:39:05.291060Z",
     "iopub.status.busy": "2021-01-04T06:39:05.290558Z",
     "iopub.status.idle": "2021-01-04T06:39:12.229560Z",
     "shell.execute_reply": "2021-01-04T06:39:12.228057Z",
     "shell.execute_reply.started": "2021-01-04T06:39:05.291060Z"
    }
   },
   "outputs": [
    {
     "name": "stdout",
     "output_type": "stream",
     "text": [
      "8.39 ms ± 683 µs per loop (mean ± std. dev. of 7 runs, 100 loops each)\n"
     ]
    }
   ],
   "source": [
    "%%timeit \n",
    "compute_trunc_likes(nth_grp_lvl_param, nth_prev_iter_curve_param)"
   ]
  },
  {
   "cell_type": "markdown",
   "metadata": {},
   "source": [
    "### njit with parallel and nogil"
   ]
  },
  {
   "cell_type": "code",
   "execution_count": 21,
   "metadata": {
    "execution": {
     "iopub.execute_input": "2021-01-04T06:39:12.231057Z",
     "iopub.status.busy": "2021-01-04T06:39:12.231057Z",
     "iopub.status.idle": "2021-01-04T06:39:13.190060Z",
     "shell.execute_reply": "2021-01-04T06:39:13.189059Z",
     "shell.execute_reply.started": "2021-01-04T06:39:12.231057Z"
    }
   },
   "outputs": [
    {
     "name": "stdout",
     "output_type": "stream",
     "text": [
      "Elapsed (with compilation) = 0.9234893321990967\n",
      "Elapsed (after compilation) = 0.008499860763549805\n"
     ]
    }
   ],
   "source": [
    "@njit(parallel=True, nogil=True)\n",
    "def compute_trunc_likes(x, mu):\n",
    "    global tau, bounds, which_param\n",
    "\n",
    "    if tau <= 0:\n",
    "        raise ValueError('Tau is <= 0!')\n",
    "\n",
    "    # This ugly thing below is a manifestation of log(1 ./ (tau .* (normcdf((bounds(which_param, 2) - mu) ./ tau) -\n",
    "    # normcdf((bounds(which_param, 1) - mu) ./ tau))) .* normpdf((x - mu) ./ tau)) Refer to\n",
    "    # http://en.wikipedia.org/wiki/Truncated_normal_distribution for the truncated normal distribution\n",
    "    log_likelihood = -(np.log(tau) + np.log(np.multiply(0.5, erfc(\n",
    "        -np.divide(bounds[which_param, 1] - mu, np.multiply(tau, np.sqrt(2))))) + (np.multiply(-0.5, erfc(\n",
    "            -np.divide(bounds[which_param, 0] - mu, np.multiply(tau, np.sqrt(2)))))))) + np.multiply(\n",
    "            -.5, np.log(2) + np.log(np.pi)) - (np.square(np.divide(x - mu, tau/np.sqrt(.5))))\n",
    "    return log_likelihood\n",
    "\n",
    "# DO NOT REPORT THIS... COMPILATION TIME IS INCLUDED IN THE EXECUTION TIME!\n",
    "start = time.time()\n",
    "compute_trunc_likes(nth_grp_lvl_param, nth_prev_iter_curve_param)\n",
    "end = time.time()\n",
    "print(\"Elapsed (with compilation) = %s\" % (end - start))\n",
    "\n",
    "# NOW THE FUNCTION IS COMPILED, RE-TIME IT EXECUTING FROM CACHE\n",
    "start = time.time()\n",
    "compute_trunc_likes(nth_grp_lvl_param, nth_prev_iter_curve_param)\n",
    "end = time.time()\n",
    "print(\"Elapsed (after compilation) = %s\" % (end - start))"
   ]
  },
  {
   "cell_type": "code",
   "execution_count": 22,
   "metadata": {
    "execution": {
     "iopub.execute_input": "2021-01-04T06:39:13.192559Z",
     "iopub.status.busy": "2021-01-04T06:39:13.192060Z",
     "iopub.status.idle": "2021-01-04T06:39:20.283558Z",
     "shell.execute_reply": "2021-01-04T06:39:20.282057Z",
     "shell.execute_reply.started": "2021-01-04T06:39:13.192559Z"
    }
   },
   "outputs": [
    {
     "name": "stdout",
     "output_type": "stream",
     "text": [
      "8.59 ms ± 661 µs per loop (mean ± std. dev. of 7 runs, 100 loops each)\n"
     ]
    }
   ],
   "source": [
    "%%timeit \n",
    "compute_trunc_likes(nth_grp_lvl_param, nth_prev_iter_curve_param)"
   ]
  },
  {
   "cell_type": "markdown",
   "metadata": {},
   "source": [
    "### njit with nogil and fastmath"
   ]
  },
  {
   "cell_type": "code",
   "execution_count": 23,
   "metadata": {
    "execution": {
     "iopub.execute_input": "2021-01-04T06:39:20.285557Z",
     "iopub.status.busy": "2021-01-04T06:39:20.285557Z",
     "iopub.status.idle": "2021-01-04T06:39:21.104558Z",
     "shell.execute_reply": "2021-01-04T06:39:21.103559Z",
     "shell.execute_reply.started": "2021-01-04T06:39:20.285557Z"
    }
   },
   "outputs": [
    {
     "name": "stdout",
     "output_type": "stream",
     "text": [
      "Elapsed (with compilation) = 0.561499834060669\n",
      "Elapsed (after compilation) = 0.23550033569335938\n"
     ]
    }
   ],
   "source": [
    "@njit(nogil=True, fastmath=True)\n",
    "def compute_trunc_likes(x, mu):\n",
    "    global tau, bounds, which_param\n",
    "\n",
    "    if tau <= 0:\n",
    "        raise ValueError('Tau is <= 0!')\n",
    "\n",
    "    # This ugly thing below is a manifestation of log(1 ./ (tau .* (normcdf((bounds(which_param, 2) - mu) ./ tau) -\n",
    "    # normcdf((bounds(which_param, 1) - mu) ./ tau))) .* normpdf((x - mu) ./ tau)) Refer to\n",
    "    # http://en.wikipedia.org/wiki/Truncated_normal_distribution for the truncated normal distribution\n",
    "    log_likelihood = -(np.log(tau) + np.log(np.multiply(0.5, erfc(\n",
    "        -np.divide(bounds[which_param, 1] - mu, np.multiply(tau, np.sqrt(2))))) + (np.multiply(-0.5, erfc(\n",
    "            -np.divide(bounds[which_param, 0] - mu, np.multiply(tau, np.sqrt(2)))))))) + np.multiply(\n",
    "            -.5, np.log(2) + np.log(np.pi)) - (np.square(np.divide(x - mu, tau/np.sqrt(.5))))\n",
    "    return log_likelihood\n",
    "\n",
    "# DO NOT REPORT THIS... COMPILATION TIME IS INCLUDED IN THE EXECUTION TIME!\n",
    "start = time.time()\n",
    "compute_trunc_likes(nth_grp_lvl_param, nth_prev_iter_curve_param)\n",
    "end = time.time()\n",
    "print(\"Elapsed (with compilation) = %s\" % (end - start))\n",
    "\n",
    "# NOW THE FUNCTION IS COMPILED, RE-TIME IT EXECUTING FROM CACHE\n",
    "start = time.time()\n",
    "compute_trunc_likes(nth_grp_lvl_param, nth_prev_iter_curve_param)\n",
    "end = time.time()\n",
    "print(\"Elapsed (after compilation) = %s\" % (end - start))"
   ]
  },
  {
   "cell_type": "code",
   "execution_count": 24,
   "metadata": {
    "execution": {
     "iopub.execute_input": "2021-01-04T06:39:21.106068Z",
     "iopub.status.busy": "2021-01-04T06:39:21.106068Z",
     "iopub.status.idle": "2021-01-04T06:39:22.964557Z",
     "shell.execute_reply": "2021-01-04T06:39:22.963557Z",
     "shell.execute_reply.started": "2021-01-04T06:39:21.106068Z"
    }
   },
   "outputs": [
    {
     "name": "stdout",
     "output_type": "stream",
     "text": [
      "231 ms ± 1.24 ms per loop (mean ± std. dev. of 7 runs, 1 loop each)\n"
     ]
    }
   ],
   "source": [
    "%%timeit \n",
    "compute_trunc_likes(nth_grp_lvl_param, nth_prev_iter_curve_param)"
   ]
  },
  {
   "cell_type": "markdown",
   "metadata": {},
   "source": [
    "## All But One"
   ]
  },
  {
   "cell_type": "markdown",
   "metadata": {},
   "source": [
    "### njit with eager compilation and nogil and parallel"
   ]
  },
  {
   "cell_type": "code",
   "execution_count": 25,
   "metadata": {
    "execution": {
     "iopub.execute_input": "2021-01-04T06:39:22.965567Z",
     "iopub.status.busy": "2021-01-04T06:39:22.965567Z",
     "iopub.status.idle": "2021-01-04T06:39:23.724067Z",
     "shell.execute_reply": "2021-01-04T06:39:23.723060Z",
     "shell.execute_reply.started": "2021-01-04T06:39:22.965567Z"
    }
   },
   "outputs": [
    {
     "name": "stdout",
     "output_type": "stream",
     "text": [
      "Elapsed (with compilation) = 0.012501239776611328\n",
      "Elapsed (after compilation) = 0.010501623153686523\n"
     ]
    }
   ],
   "source": [
    "@njit(float64[:,:](float64[:,:], float64[:]), nogil=True, parallel=True)\n",
    "def compute_trunc_likes(x, mu):\n",
    "    global tau, bounds, which_param\n",
    "\n",
    "    if tau <= 0:\n",
    "        raise ValueError('Tau is <= 0!')\n",
    "\n",
    "    # This ugly thing below is a manifestation of log(1 ./ (tau .* (normcdf((bounds(which_param, 2) - mu) ./ tau) -\n",
    "    # normcdf((bounds(which_param, 1) - mu) ./ tau))) .* normpdf((x - mu) ./ tau)) Refer to\n",
    "    # http://en.wikipedia.org/wiki/Truncated_normal_distribution for the truncated normal distribution\n",
    "    log_likelihood = -(np.log(tau) + np.log(np.multiply(0.5, erfc(\n",
    "        -np.divide(bounds[which_param, 1] - mu, np.multiply(tau, np.sqrt(2))))) + (np.multiply(-0.5, erfc(\n",
    "            -np.divide(bounds[which_param, 0] - mu, np.multiply(tau, np.sqrt(2)))))))) + np.multiply(\n",
    "            -.5, np.log(2) + np.log(np.pi)) - (np.square(np.divide(x - mu, tau/np.sqrt(.5))))\n",
    "    return log_likelihood\n",
    "\n",
    "# DO NOT REPORT THIS... COMPILATION TIME IS INCLUDED IN THE EXECUTION TIME!\n",
    "start = time.time()\n",
    "compute_trunc_likes(nth_grp_lvl_param, nth_prev_iter_curve_param)\n",
    "end = time.time()\n",
    "print(\"Elapsed (with compilation) = %s\" % (end - start))\n",
    "\n",
    "# NOW THE FUNCTION IS COMPILED, RE-TIME IT EXECUTING FROM CACHE\n",
    "start = time.time()\n",
    "compute_trunc_likes(nth_grp_lvl_param, nth_prev_iter_curve_param)\n",
    "end = time.time()\n",
    "print(\"Elapsed (after compilation) = %s\" % (end - start))"
   ]
  },
  {
   "cell_type": "code",
   "execution_count": 26,
   "metadata": {
    "execution": {
     "iopub.execute_input": "2021-01-04T06:39:23.726560Z",
     "iopub.status.busy": "2021-01-04T06:39:23.726060Z",
     "iopub.status.idle": "2021-01-04T06:39:31.562558Z",
     "shell.execute_reply": "2021-01-04T06:39:31.561058Z",
     "shell.execute_reply.started": "2021-01-04T06:39:23.726560Z"
    }
   },
   "outputs": [
    {
     "name": "stdout",
     "output_type": "stream",
     "text": [
      "9.39 ms ± 676 µs per loop (mean ± std. dev. of 7 runs, 100 loops each)\n"
     ]
    }
   ],
   "source": [
    "%%timeit \n",
    "compute_trunc_likes(nth_grp_lvl_param, nth_prev_iter_curve_param)"
   ]
  },
  {
   "cell_type": "markdown",
   "metadata": {},
   "source": [
    "### njit with eager compilation and nogil and fastmath"
   ]
  },
  {
   "cell_type": "code",
   "execution_count": 27,
   "metadata": {
    "execution": {
     "iopub.execute_input": "2021-01-04T06:39:31.565060Z",
     "iopub.status.busy": "2021-01-04T06:39:31.564560Z",
     "iopub.status.idle": "2021-01-04T06:39:32.476057Z",
     "shell.execute_reply": "2021-01-04T06:39:32.475557Z",
     "shell.execute_reply.started": "2021-01-04T06:39:31.565060Z"
    }
   },
   "outputs": [
    {
     "name": "stdout",
     "output_type": "stream",
     "text": [
      "Elapsed (with compilation) = 0.23499798774719238\n",
      "Elapsed (after compilation) = 0.23649930953979492\n"
     ]
    }
   ],
   "source": [
    "@njit(float64[:,:](float64[:,:], float64[:]), nogil=True, fastmath=True)\n",
    "def compute_trunc_likes(x, mu):\n",
    "    global tau, bounds, which_param\n",
    "\n",
    "    if tau <= 0:\n",
    "        raise ValueError('Tau is <= 0!')\n",
    "\n",
    "    # This ugly thing below is a manifestation of log(1 ./ (tau .* (normcdf((bounds(which_param, 2) - mu) ./ tau) -\n",
    "    # normcdf((bounds(which_param, 1) - mu) ./ tau))) .* normpdf((x - mu) ./ tau)) Refer to\n",
    "    # http://en.wikipedia.org/wiki/Truncated_normal_distribution for the truncated normal distribution\n",
    "    log_likelihood = -(np.log(tau) + np.log(np.multiply(0.5, erfc(\n",
    "        -np.divide(bounds[which_param, 1] - mu, np.multiply(tau, np.sqrt(2))))) + (np.multiply(-0.5, erfc(\n",
    "            -np.divide(bounds[which_param, 0] - mu, np.multiply(tau, np.sqrt(2)))))))) + np.multiply(\n",
    "            -.5, np.log(2) + np.log(np.pi)) - (np.square(np.divide(x - mu, tau/np.sqrt(.5))))\n",
    "    return log_likelihood\n",
    "\n",
    "# DO NOT REPORT THIS... COMPILATION TIME IS INCLUDED IN THE EXECUTION TIME!\n",
    "start = time.time()\n",
    "compute_trunc_likes(nth_grp_lvl_param, nth_prev_iter_curve_param)\n",
    "end = time.time()\n",
    "print(\"Elapsed (with compilation) = %s\" % (end - start))\n",
    "\n",
    "# NOW THE FUNCTION IS COMPILED, RE-TIME IT EXECUTING FROM CACHE\n",
    "start = time.time()\n",
    "compute_trunc_likes(nth_grp_lvl_param, nth_prev_iter_curve_param)\n",
    "end = time.time()\n",
    "print(\"Elapsed (after compilation) = %s\" % (end - start))"
   ]
  },
  {
   "cell_type": "code",
   "execution_count": 28,
   "metadata": {
    "execution": {
     "iopub.execute_input": "2021-01-04T06:39:32.478061Z",
     "iopub.status.busy": "2021-01-04T06:39:32.477563Z",
     "iopub.status.idle": "2021-01-04T06:39:34.430562Z",
     "shell.execute_reply": "2021-01-04T06:39:34.429557Z",
     "shell.execute_reply.started": "2021-01-04T06:39:32.478061Z"
    }
   },
   "outputs": [
    {
     "name": "stdout",
     "output_type": "stream",
     "text": [
      "241 ms ± 7.35 ms per loop (mean ± std. dev. of 7 runs, 1 loop each)\n"
     ]
    }
   ],
   "source": [
    "%%timeit \n",
    "compute_trunc_likes(nth_grp_lvl_param, nth_prev_iter_curve_param)"
   ]
  },
  {
   "cell_type": "markdown",
   "metadata": {},
   "source": [
    "### njit with eager compilation and parallel and fastmath"
   ]
  },
  {
   "cell_type": "code",
   "execution_count": 5,
   "metadata": {
    "execution": {
     "iopub.execute_input": "2021-01-04T06:43:31.888067Z",
     "iopub.status.busy": "2021-01-04T06:43:31.887560Z",
     "iopub.status.idle": "2021-01-04T06:43:32.742556Z",
     "shell.execute_reply": "2021-01-04T06:43:32.741564Z",
     "shell.execute_reply.started": "2021-01-04T06:43:31.888067Z"
    }
   },
   "outputs": [
    {
     "name": "stdout",
     "output_type": "stream",
     "text": [
      "Elapsed (with compilation) = 0.00749969482421875\n",
      "Elapsed (after compilation) = 0.007500410079956055\n"
     ]
    }
   ],
   "source": [
    "import time\n",
    "\n",
    "@njit(float64[:,:](float64[:,:], float64[:]), parallel=True, fastmath=True)\n",
    "def compute_trunc_likes(x, mu):\n",
    "    global tau, bounds, which_param\n",
    "\n",
    "    if tau <= 0:\n",
    "        raise ValueError('Tau is <= 0!')\n",
    "\n",
    "    # This ugly thing below is a manifestation of log(1 ./ (tau .* (normcdf((bounds(which_param, 2) - mu) ./ tau) -\n",
    "    # normcdf((bounds(which_param, 1) - mu) ./ tau))) .* normpdf((x - mu) ./ tau)) Refer to\n",
    "    # http://en.wikipedia.org/wiki/Truncated_normal_distribution for the truncated normal distribution\n",
    "    log_likelihood = -(np.log(tau) + np.log(np.multiply(0.5, erfc(\n",
    "        -np.divide(bounds[which_param, 1] - mu, np.multiply(tau, np.sqrt(2))))) + (np.multiply(-0.5, erfc(\n",
    "            -np.divide(bounds[which_param, 0] - mu, np.multiply(tau, np.sqrt(2)))))))) + np.multiply(\n",
    "            -.5, np.log(2) + np.log(np.pi)) - (np.square(np.divide(x - mu, tau/np.sqrt(.5))))\n",
    "    return log_likelihood\n",
    "\n",
    "# DO NOT REPORT THIS... COMPILATION TIME IS INCLUDED IN THE EXECUTION TIME!\n",
    "start = time.time()\n",
    "compute_trunc_likes(nth_grp_lvl_param, nth_prev_iter_curve_param)\n",
    "end = time.time()\n",
    "print(\"Elapsed (with compilation) = %s\" % (end - start))\n",
    "\n",
    "# NOW THE FUNCTION IS COMPILED, RE-TIME IT EXECUTING FROM CACHE\n",
    "start = time.time()\n",
    "compute_trunc_likes(nth_grp_lvl_param, nth_prev_iter_curve_param)\n",
    "end = time.time()\n",
    "print(\"Elapsed (after compilation) = %s\" % (end - start))"
   ]
  },
  {
   "cell_type": "code",
   "execution_count": 6,
   "metadata": {
    "execution": {
     "iopub.execute_input": "2021-01-04T06:43:32.777060Z",
     "iopub.status.busy": "2021-01-04T06:43:32.776558Z",
     "iopub.status.idle": "2021-01-04T06:43:39.376558Z",
     "shell.execute_reply": "2021-01-04T06:43:39.375060Z",
     "shell.execute_reply.started": "2021-01-04T06:43:32.777060Z"
    }
   },
   "outputs": [
    {
     "name": "stdout",
     "output_type": "stream",
     "text": [
      "7.84 ms ± 357 µs per loop (mean ± std. dev. of 7 runs, 100 loops each)\n"
     ]
    }
   ],
   "source": [
    "%%timeit \n",
    "compute_trunc_likes(nth_grp_lvl_param, nth_prev_iter_curve_param)"
   ]
  },
  {
   "cell_type": "markdown",
   "metadata": {},
   "source": [
    "### njit with parallel and nogil and fastmath"
   ]
  },
  {
   "cell_type": "code",
   "execution_count": 31,
   "metadata": {
    "execution": {
     "iopub.execute_input": "2021-01-04T06:39:41.882558Z",
     "iopub.status.busy": "2021-01-04T06:39:41.882058Z",
     "iopub.status.idle": "2021-01-04T06:39:42.826057Z",
     "shell.execute_reply": "2021-01-04T06:39:42.824558Z",
     "shell.execute_reply.started": "2021-01-04T06:39:41.882558Z"
    }
   },
   "outputs": [
    {
     "name": "stdout",
     "output_type": "stream",
     "text": [
      "Elapsed (with compilation) = 0.012001514434814453\n",
      "Elapsed (after compilation) = 0.012499570846557617\n"
     ]
    }
   ],
   "source": [
    "@njit(float64[:,:](float64[:,:], float64[:]), parallel=True, nogil=True, fastmath=True)\n",
    "def compute_trunc_likes(x, mu):\n",
    "    global tau, bounds, which_param\n",
    "\n",
    "    if tau <= 0:\n",
    "        raise ValueError('Tau is <= 0!')\n",
    "\n",
    "    # This ugly thing below is a manifestation of log(1 ./ (tau .* (normcdf((bounds(which_param, 2) - mu) ./ tau) -\n",
    "    # normcdf((bounds(which_param, 1) - mu) ./ tau))) .* normpdf((x - mu) ./ tau)) Refer to\n",
    "    # http://en.wikipedia.org/wiki/Truncated_normal_distribution for the truncated normal distribution\n",
    "    log_likelihood = -(np.log(tau) + np.log(np.multiply(0.5, erfc(\n",
    "        -np.divide(bounds[which_param, 1] - mu, np.multiply(tau, np.sqrt(2))))) + (np.multiply(-0.5, erfc(\n",
    "            -np.divide(bounds[which_param, 0] - mu, np.multiply(tau, np.sqrt(2)))))))) + np.multiply(\n",
    "            -.5, np.log(2) + np.log(np.pi)) - (np.square(np.divide(x - mu, tau/np.sqrt(.5))))\n",
    "    return log_likelihood\n",
    "\n",
    "# DO NOT REPORT THIS... COMPILATION TIME IS INCLUDED IN THE EXECUTION TIME!\n",
    "start = time.time()\n",
    "compute_trunc_likes(nth_grp_lvl_param, nth_prev_iter_curve_param)\n",
    "end = time.time()\n",
    "print(\"Elapsed (with compilation) = %s\" % (end - start))\n",
    "\n",
    "# NOW THE FUNCTION IS COMPILED, RE-TIME IT EXECUTING FROM CACHE\n",
    "start = time.time()\n",
    "compute_trunc_likes(nth_grp_lvl_param, nth_prev_iter_curve_param)\n",
    "end = time.time()\n",
    "print(\"Elapsed (after compilation) = %s\" % (end - start))"
   ]
  },
  {
   "cell_type": "code",
   "execution_count": 32,
   "metadata": {
    "execution": {
     "iopub.execute_input": "2021-01-04T06:39:42.828067Z",
     "iopub.status.busy": "2021-01-04T06:39:42.827058Z",
     "iopub.status.idle": "2021-01-04T06:39:49.657559Z",
     "shell.execute_reply": "2021-01-04T06:39:49.656058Z",
     "shell.execute_reply.started": "2021-01-04T06:39:42.828067Z"
    }
   },
   "outputs": [
    {
     "name": "stdout",
     "output_type": "stream",
     "text": [
      "8.09 ms ± 535 µs per loop (mean ± std. dev. of 7 runs, 100 loops each)\n"
     ]
    }
   ],
   "source": [
    "%%timeit \n",
    "compute_trunc_likes(nth_grp_lvl_param, nth_prev_iter_curve_param)"
   ]
  },
  {
   "cell_type": "markdown",
   "metadata": {},
   "source": [
    "## njit with eager compilation and parallel and nogil and fastmath"
   ]
  },
  {
   "cell_type": "code",
   "execution_count": 16,
   "metadata": {
    "execution": {
     "iopub.execute_input": "2021-01-04T08:19:13.788558Z",
     "iopub.status.busy": "2021-01-04T08:19:13.788058Z",
     "iopub.status.idle": "2021-01-04T08:19:14.657064Z",
     "shell.execute_reply": "2021-01-04T08:19:14.655564Z",
     "shell.execute_reply.started": "2021-01-04T08:19:13.788558Z"
    }
   },
   "outputs": [
    {
     "name": "stdout",
     "output_type": "stream",
     "text": [
      "Elapsed (with compilation) = 0.008002042770385742\n",
      "Elapsed (after compilation) = 0.007998466491699219\n"
     ]
    }
   ],
   "source": [
    "import time\n",
    "from numba import int64\n",
    "\n",
    "@njit(float64[:,:](float64[:,:], float64[:], float64, int32[:,:], int64), parallel=True, fastmath=True)\n",
    "def compute_trunc_likes(x, mu, tau, bounds, which_param):\n",
    "    \n",
    "    if tau <= 0:\n",
    "        raise ValueError('Tau is <= 0!')\n",
    "\n",
    "    # This ugly thing below is a manifestation of log(1 ./ (tau .* (normcdf((bounds(which_param, 2) - mu) ./ tau) -\n",
    "    # normcdf((bounds(which_param, 1) - mu) ./ tau))) .* normpdf((x - mu) ./ tau)) Refer to\n",
    "    # http://en.wikipedia.org/wiki/Truncated_normal_distribution for the truncated normal distribution\n",
    "    log_likelihood = -(np.log(tau) + np.log(np.multiply(0.5, erfc(\n",
    "        -np.divide(bounds[which_param, 1] - mu, np.multiply(tau, np.sqrt(2))))) + (np.multiply(-0.5, erfc(\n",
    "            -np.divide(bounds[which_param, 0] - mu, np.multiply(tau, np.sqrt(2)))))))) + np.multiply(\n",
    "            -.5, np.log(2) + np.log(np.pi)) - (np.square(np.divide(x - mu, tau/np.sqrt(.5))))\n",
    "    return log_likelihood\n",
    "\n",
    "# DO NOT REPORT THIS... COMPILATION TIME IS INCLUDED IN THE EXECUTION TIME!\n",
    "start = time.time()\n",
    "compute_trunc_likes(nth_grp_lvl_param, nth_prev_iter_curve_param, tau, bounds, which_param)\n",
    "end = time.time()\n",
    "print(\"Elapsed (with compilation) = %s\" % (end - start))\n",
    "\n",
    "# NOW THE FUNCTION IS COMPILED, RE-TIME IT EXECUTING FROM CACHE\n",
    "start = time.time()\n",
    "compute_trunc_likes(nth_grp_lvl_param, nth_prev_iter_curve_param, tau, bounds, which_param)\n",
    "end = time.time()\n",
    "print(\"Elapsed (after compilation) = %s\" % (end - start))"
   ]
  },
  {
   "cell_type": "code",
   "execution_count": 17,
   "metadata": {
    "execution": {
     "iopub.execute_input": "2021-01-04T08:19:15.523561Z",
     "iopub.status.busy": "2021-01-04T08:19:15.523061Z",
     "iopub.status.idle": "2021-01-04T08:19:21.816069Z",
     "shell.execute_reply": "2021-01-04T08:19:21.814558Z",
     "shell.execute_reply.started": "2021-01-04T08:19:15.523561Z"
    }
   },
   "outputs": [
    {
     "name": "stdout",
     "output_type": "stream",
     "text": [
      "7.63 ms ± 374 µs per loop (mean ± std. dev. of 7 runs, 100 loops each)\n"
     ]
    }
   ],
   "source": [
    "%%timeit \n",
    "compute_trunc_likes(nth_grp_lvl_param, nth_prev_iter_curve_param, tau, bounds, which_param)"
   ]
  },
  {
   "cell_type": "markdown",
   "metadata": {},
   "source": [
    "So nogil probably does nothing but the rest of the options contribute some amount of performance. How much does this scale within the actual codebase?"
   ]
  },
  {
   "cell_type": "markdown",
   "metadata": {},
   "source": [
    "## Integrating Into PCIT\n",
    "I've already made an attempt, adding my vectorized `erfc` function with my new `compute_trunc_likes` and dependencies. Let's see if it works and compare performance with MATLAB.\n",
    "\n",
    "First, let's time the MATLAB code."
   ]
  },
  {
   "cell_type": "code",
   "execution_count": 12,
   "metadata": {
    "execution": {
     "iopub.execute_input": "2021-01-04T08:15:44.830558Z",
     "iopub.status.busy": "2021-01-04T08:15:44.830558Z",
     "iopub.status.idle": "2021-01-04T08:15:44.849557Z",
     "shell.execute_reply": "2021-01-04T08:15:44.848057Z",
     "shell.execute_reply.started": "2021-01-04T08:15:44.830558Z"
    }
   },
   "outputs": [
    {
     "ename": "AttributeError",
     "evalue": "'float' object has no attribute 'dtype'",
     "output_type": "error",
     "traceback": [
      "\u001b[1;31m---------------------------------------------------------------------------\u001b[0m",
      "\u001b[1;31mAttributeError\u001b[0m                            Traceback (most recent call last)",
      "\u001b[1;32m<ipython-input-12-746eae416572>\u001b[0m in \u001b[0;36m<module>\u001b[1;34m\u001b[0m\n\u001b[1;32m----> 1\u001b[1;33m \u001b[0mtau\u001b[0m\u001b[1;33m.\u001b[0m\u001b[0mdtype\u001b[0m\u001b[1;33m\u001b[0m\u001b[1;33m\u001b[0m\u001b[0m\n\u001b[0m",
      "\u001b[1;31mAttributeError\u001b[0m: 'float' object has no attribute 'dtype'"
     ]
    }
   ],
   "source": [
    "tau.dtype"
   ]
  },
  {
   "cell_type": "markdown",
   "metadata": {},
   "source": [
    "## Still More to Do\n",
    "I find that MATLAB gets 3795 iterations of compute_weights calls done in 5 minutes. Python is still only getting 938 iterations done. I might try going back to lower number precision. Could also try lesioning to find bottlenecks. That bug I detected as happening after all these iterations might also be an important clue.\n",
    "\n",
    "```\n",
    "Start time 1/4 3:8\n",
    "********** START OF MESSAGES **********\n",
    "0 trials are dropped since they are regarded as outliers\n",
    "********** END OF MESSAGES **********\n",
    "Betas: 0, 1\n",
    "EM Iteration: 0\n",
    "Optimization terminated successfully.\n",
    "         Current function value: 1243.992529\n",
    "         Iterations: 5\n",
    "         Function evaluations: 7\n",
    "         Gradient evaluations: 7\n",
    "Betas: 0.10286141975053381, 0.6417252461065261\n",
    "EM Iteration: 1\n",
    "2021-01-04 03:12:00.616726\n",
    "2021-01-04 03:17:11.770227\n",
    "938\n",
    "---------------------------------------------------------------------------\n",
    "KeyboardInterrupt                         Traceback (most recent call last)\n",
    "<ipython-input-6-1f3b069d409b> in compute_weights(curve_name, nParticles, normalized_w, prev_iter_curve_param, param, wgt_chunks, resolution)\n",
    "     24                 nth_prev_iter_curve_param = prev_iter_curve_param[target_indices, npm]\n",
    "---> 25                 trunc_likes = compute_trunc_likes(nth_grp_lvl_param, nth_prev_iter_curve_param, tau, bounds, which_param)\n",
    "     26                 prob_grp_lvl_curve = np.add(prob_grp_lvl_curve, trunc_likes)\n",
    "\n",
    "KeyboardInterrupt: \n",
    "\n",
    "During handling of the above exception, another exception occurred:\n",
    "\n",
    "AssertionError                            Traceback (most recent call last)\n",
    "<ipython-input-9-2bc4507d9022> in <module>\n",
    "      1 # run tests only when is main file!\n",
    "      2 if __name__ == '__main__':\n",
    "----> 3     test_importance_sampler()\n",
    "\n",
    "<ipython-input-4-0f527f394b82> in test_importance_sampler()\n",
    "     18 \n",
    "     19     # generate output\n",
    "---> 20     importance_sampler(python_data, python_analysis_settings)\n",
    "     21     # eng.importance_sampler(matlab_data, matlab_analysis_settings, nargout=0)\n",
    "\n",
    "<ipython-input-2-fd0875ea2295> in importance_sampler(***failed resolving arguments***)\n",
    "    114         # Compute the p(theta) and q(theta) weights\n",
    "    115         if em > 0:\n",
    "--> 116             p_theta_minus_q_theta = compute_weights(\n",
    "    117                 ana_opt['curve_type'], ana_opt['particles'], normalized_w[em - 1, :],\n",
    "    118                 prev_iter_curve_param, param, ana_opt['wgt_chunks'], ana_opt['resolution'])\n",
    "\n",
    "<ipython-input-6-1f3b069d409b> in compute_weights(curve_name, nParticles, normalized_w, prev_iter_curve_param, param, wgt_chunks, resolution)\n",
    "     33         print(datetime.datetime.now())\n",
    "     34         print(idx)\n",
    "---> 35         assert(False)\n",
    "     36 \n",
    "     37     if np.any(np.isnan(q_theta)):\n",
    "\n",
    "AssertionError: \n",
    "```"
   ]
  },
  {
   "cell_type": "code",
   "execution_count": null,
   "metadata": {},
   "outputs": [],
   "source": []
  }
 ],
 "metadata": {
  "kernelspec": {
   "display_name": "Python 3",
   "language": "python",
   "name": "python3"
  },
  "language_info": {
   "codemirror_mode": {
    "name": "ipython",
    "version": 3
   },
   "file_extension": ".py",
   "mimetype": "text/x-python",
   "name": "python",
   "nbconvert_exporter": "python",
   "pygments_lexer": "ipython3",
   "version": "3.8.5"
  },
  "toc-autonumbering": true
 },
 "nbformat": 4,
 "nbformat_minor": 4
}