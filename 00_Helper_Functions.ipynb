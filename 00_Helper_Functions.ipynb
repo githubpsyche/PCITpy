{
 "cells": [
  {
   "cell_type": "code",
   "execution_count": null,
   "metadata": {},
   "outputs": [],
   "source": [
    "# hide\n",
    "# default_exp helper"
   ]
  },
  {
   "cell_type": "markdown",
   "metadata": {},
   "source": [
    "# Helper Functions"
   ]
  },
  {
   "cell_type": "code",
   "execution_count": null,
   "metadata": {},
   "outputs": [],
   "source": [
    "#exports\n",
    "from scipy import stats\n",
    "\n",
    "\n",
    "def likratiotest(l1, l0, k1, k0):\n",
    "    D = -2 * (l0 - l1)  # deviance score\n",
    "    df = k1 - k0  # degrees of freedom\n",
    "    p = stats.chi2.sf(D, df)  # chi-square test\n",
    "    return D, p"
   ]
  }
 ],
 "metadata": {
  "kernelspec": {
   "display_name": "Python 3.8 (XPython)",
   "language": "python",
   "name": "xpython"
  }
 },
 "nbformat": 4,
 "nbformat_minor": 4
}
