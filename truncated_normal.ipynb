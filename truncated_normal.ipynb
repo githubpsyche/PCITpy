{
 "cells": [
  {
   "cell_type": "markdown",
   "metadata": {},
   "source": [
    "# truncated_normal\n",
    "generate N samples from a truncated normal distribution with mean=mu, sigma=sigma and with bounds A and B\n",
    "\n",
    "**USAGE**:\n",
    "[out] = truncated_normal(a, b, mu, sigma, n)\n",
    "\n",
    "**INPUTS**:\n",
    "- A: lower bound\n",
    "- B: upper bound\n",
    "- mu: mean\n",
    "- sigma: sigma, standard deviation\n",
    "- N: number of samples\n",
    "\n",
    "**OUTPUTS**:\n",
    "- out: mean + truncated Gaussian noise with mean=mu, sigma=sigma, between bounds A and B "
   ]
  },
  {
   "cell_type": "code",
   "execution_count": null,
   "metadata": {},
   "outputs": [],
   "source": [
    "from scipy import special\n",
    "from numpy import random\n",
    "from math import sqrt\n",
    "\n",
    "def truncated_normal(a, b, mu, sigma, n):\n",
    "    if (b-a) < 0:\n",
    "        raise ValueError('Lower bound is greater then upper bound!')\n",
    "    elif sigma <= 0:\n",
    "        raise ValueError('Sigma is <= 0!')\n",
    "        \n",
    "    PHIl = np.multiply(0.5,-special.erfc(\n",
    "        np.divide(np.divide((a-mu),sigma), sqrt(2))))\n",
    "    PHIr = np.multiply(0.5,-special.erfc(\n",
    "        np.divide(np.divide((b-mu),sigma), sqrt(2))))\n",
    "    \n",
    "    # Refer to http://www.maths.uq.edu.au/~chancc/10Fstat3001/ass4sol.pdf for truncated normal dist sampling below -- If this source does not exist then refer to code in the link below,\n",
    "    # http://www.wiley.com/legacy/wileychi/koopbayesian/supp/normt_rnd.m\n",
    "    return mu + np.multiply(sigma, np.multiply(sqrt(2), special.erfinv(np.multiply(2, np.multiply(PHIl + (PHIr - PHIl), random.rand(n, 1)) - 1));"
   ]
  },
  {
   "cell_type": "markdown",
   "metadata": {},
   "source": [
    "Still not thoroughly tested"
   ]
  }
 ],
 "metadata": {
  "kernelspec": {
   "display_name": "Python 3",
   "language": "python",
   "name": "python3"
  },
  "language_info": {
   "codemirror_mode": {
    "name": "ipython",
    "version": 3
   },
   "file_extension": ".py",
   "mimetype": "text/x-python",
   "name": "python",
   "nbconvert_exporter": "python",
   "pygments_lexer": "ipython3",
   "version": "3.6.5"
  }
 },
 "nbformat": 4,
 "nbformat_minor": 2
}
