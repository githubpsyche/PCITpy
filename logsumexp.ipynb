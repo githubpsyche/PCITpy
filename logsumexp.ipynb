{
 "cells": [
  {
   "cell_type": "markdown",
   "metadata": {},
   "source": [
    "# logsumexp\n",
    "Return log(sum(exp(a), dim)) while avoiding numerical underflow.\n",
    "\n",
    "Default is dim = 1 (rows) returns a row vector. `logsumexp(a, 1)` will sum across columns and return a column vector."
   ]
  },
  {
   "cell_type": "code",
   "execution_count": 19,
   "metadata": {},
   "outputs": [],
   "source": [
    "import numpy as np\n",
    "\n",
    "def logsumexp(a, dim=0):\n",
    "    \"Return log(sum(exp(a), dim)) while avoiding numerical underflow\"\n",
    "    \n",
    "    # subtract the largest in each column\n",
    "    y = np.max(a, axis=dim)\n",
    "    dims = np.ones((a.ndim)).astype(int)\n",
    "    dims[dim] = a.shape[dim]\n",
    "    a = a - np.tile(y, dims)\n",
    "    s = y + np.log(np.sum(np.exp(a), dim))\n",
    "    i = np.where(~np.isfinite(y))\n",
    "    if np.size(i) > 0:\n",
    "        s[i] = y[i]\n",
    "        \n",
    "    return s"
   ]
  }
 ],
 "metadata": {
  "kernelspec": {
   "display_name": "Python 3",
   "language": "python",
   "name": "python3"
  },
  "language_info": {
   "codemirror_mode": {
    "name": "ipython",
    "version": 3
   },
   "file_extension": ".py",
   "mimetype": "text/x-python",
   "name": "python",
   "nbconvert_exporter": "python",
   "pygments_lexer": "ipython3",
   "version": "3.6.5"
  }
 },
 "nbformat": 4,
 "nbformat_minor": 2
}
