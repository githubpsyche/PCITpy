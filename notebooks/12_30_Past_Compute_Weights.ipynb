{
 "cells": [
  {
   "cell_type": "markdown",
   "metadata": {},
   "source": [
    "## Arlene's Updates\n",
    "- `simulate_data` started\n",
    "- `family_of_curves.get_curve_xy_vals` finished\n",
    "- Keeping her own notebook(s) to track progress\n",
    "- Shared outcomes of simulations in `results` folder"
   ]
  },
  {
   "cell_type": "markdown",
   "metadata": {},
   "source": [
    "## Plan\n",
    "Now my goal is to set up some code to help debug past that bottleneck of code I've been stuck on. I'll:\n",
    "- Run PCIT up past 2 iterations of the importance sampler and save the state of all variables at that point and \n",
    "- Make a function that just loads those variables where it would normally run the importance sampler\n",
    "\n",
    "That way I can keep working on the rest of the code without being so tormented by long runtimes."
   ]
  },
  {
   "cell_type": "markdown",
   "metadata": {},
   "source": [
    "## Outcome\n",
    "I find a bug in the output of my `compute_weights` function: `p_theta_minus_q_theta` has the wrong shape, 20 x 100k instead of 1 x 100k. Obviously my hope is that this reflects an opportunity to further optimize compute weights, but it's probably a shape issue with a sum I did at some point in the calculation. Once I work that out (on line 131), I'll be able to move forward with my plan to sidestep runtime issues I might face with further code testing."
   ]
  },
  {
   "cell_type": "code",
   "execution_count": null,
   "metadata": {},
   "outputs": [],
   "source": []
  }
 ],
 "metadata": {
  "kernelspec": {
   "display_name": "Python 3",
   "language": "python",
   "name": "python3"
  },
  "language_info": {
   "codemirror_mode": {
    "name": "ipython",
    "version": 3
   },
   "file_extension": ".py",
   "mimetype": "text/x-python",
   "name": "python",
   "nbconvert_exporter": "python",
   "pygments_lexer": "ipython3",
   "version": "3.8.5"
  }
 },
 "nbformat": 4,
 "nbformat_minor": 4
}
