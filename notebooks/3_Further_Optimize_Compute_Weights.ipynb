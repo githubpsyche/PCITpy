{
 "cells": [
  {
   "cell_type": "markdown",
   "metadata": {},
   "source": [
    "## Collapse The Arithmetic\n",
    "So I can stick the `.5` multiplication term onto `tau`, so that all the arithmetic broadcasting only happens once."
   ]
  },
  {
   "cell_type": "code",
   "execution_count": 1,
   "metadata": {},
   "outputs": [],
   "source": [
    "import numpy as np\n",
    "from scipy import special\n",
    "import math\n",
    "\n",
    "tau = .05\n",
    "bounds = np.array([[-1,  1],\n",
    "       [ 0,  1],\n",
    "       [ 0,  1],\n",
    "       [-1,  1],\n",
    "       [-1,  1],\n",
    "       [-1,  1]])\n",
    "which_param = 0\n",
    "\n",
    "nth_grp_lvl_param = np.load('../nth_grp_lvl_param.npy')\n",
    "nth_prev_iter_curve_param = np.load('../nth_prev_iter_curve_param.npy')"
   ]
  },
  {
   "cell_type": "code",
   "execution_count": 2,
   "metadata": {},
   "outputs": [
    {
     "name": "stdout",
     "output_type": "stream",
     "text": [
      "26.7 ms ± 1.62 ms per loop (mean ± std. dev. of 7 runs, 10 loops each)\n"
     ]
    }
   ],
   "source": [
    "%%timeit \n",
    "def compute_trunc_likes(x, mu):\n",
    "    global tau, bounds, which_param\n",
    "\n",
    "    if tau <= 0:\n",
    "        raise ValueError('Tau is <= 0!')\n",
    "\n",
    "    # This ugly thing below is a manifestation of log(1 ./ (tau .* (normcdf((bounds(which_param, 2) - mu) ./ tau) -\n",
    "    # normcdf((bounds(which_param, 1) - mu) ./ tau))) .* normpdf((x - mu) ./ tau)) Refer to\n",
    "    # http://en.wikipedia.org/wiki/Truncated_normal_distribution for the truncated normal distribution\n",
    "    log_likelihood = -(np.log(tau) + np.log(np.multiply(0.5, special.erfc(\n",
    "        -np.divide(bounds[which_param, 1] - mu, np.multiply(tau, math.sqrt(2))))) + (np.multiply(-0.5, special.erfc(\n",
    "            -np.divide(bounds[which_param, 0] - mu, np.multiply(tau, math.sqrt(2)))))))) + np.multiply(\n",
    "            -.5, np.log(2) + np.log(np.pi)) - np.multiply(.5, np.divide(x - mu, tau) ** 2)\n",
    "    return log_likelihood\n",
    "\n",
    "compute_trunc_likes(nth_grp_lvl_param, nth_prev_iter_curve_param)"
   ]
  },
  {
   "cell_type": "code",
   "execution_count": 3,
   "metadata": {},
   "outputs": [],
   "source": [
    "nth_grp_lvl_param = nth_grp_lvl_param.astype('float32')\n",
    "nth_prev_iter_curve_param = nth_prev_iter_curve_param.astype('float32')"
   ]
  },
  {
   "cell_type": "code",
   "execution_count": 4,
   "metadata": {},
   "outputs": [
    {
     "name": "stdout",
     "output_type": "stream",
     "text": [
      "10.8 ms ± 99.9 µs per loop (mean ± std. dev. of 7 runs, 100 loops each)\n"
     ]
    }
   ],
   "source": [
    "%%timeit \n",
    "def compute_trunc_likes(x, mu):\n",
    "    global tau, bounds, which_param\n",
    "\n",
    "    if tau <= 0:\n",
    "        raise ValueError('Tau is <= 0!')\n",
    "\n",
    "    # This ugly thing below is a manifestation of log(1 ./ (tau .* (normcdf((bounds(which_param, 2) - mu) ./ tau) -\n",
    "    # normcdf((bounds(which_param, 1) - mu) ./ tau))) .* normpdf((x - mu) ./ tau)) Refer to\n",
    "    # http://en.wikipedia.org/wiki/Truncated_normal_distribution for the truncated normal distribution\n",
    "    log_likelihood = -(np.log(tau) + np.log(np.multiply(0.5, special.erfc(\n",
    "        -np.divide(bounds[which_param, 1] - mu, np.multiply(tau, math.sqrt(2))))) + (np.multiply(-0.5, special.erfc(\n",
    "            -np.divide(bounds[which_param, 0] - mu, np.multiply(tau, math.sqrt(2)))))))) + np.multiply(\n",
    "            -.5, np.log(2) + np.log(np.pi)) - (np.divide(x - mu, tau/np.sqrt(.5)) ** 2)\n",
    "    return log_likelihood\n",
    "\n",
    "compute_trunc_likes(nth_grp_lvl_param, nth_prev_iter_curve_param)"
   ]
  },
  {
   "cell_type": "markdown",
   "metadata": {},
   "source": [
    "## More Lesioning?"
   ]
  },
  {
   "cell_type": "markdown",
   "metadata": {},
   "source": [
    "### It's Still Mostly The Last Term"
   ]
  },
  {
   "cell_type": "code",
   "execution_count": 5,
   "metadata": {},
   "outputs": [
    {
     "name": "stdout",
     "output_type": "stream",
     "text": [
      "8.59 ms ± 171 µs per loop (mean ± std. dev. of 7 runs, 100 loops each)\n"
     ]
    }
   ],
   "source": [
    "%%timeit \n",
    "def compute_trunc_likes(x, mu):\n",
    "    global tau, bounds, which_param\n",
    "\n",
    "    if tau <= 0:\n",
    "        raise ValueError('Tau is <= 0!')\n",
    "\n",
    "    # This ugly thing below is a manifestation of log(1 ./ (tau .* (normcdf((bounds(which_param, 2) - mu) ./ tau) -\n",
    "    # normcdf((bounds(which_param, 1) - mu) ./ tau))) .* normpdf((x - mu) ./ tau)) Refer to\n",
    "    # http://en.wikipedia.org/wiki/Truncated_normal_distribution for the truncated normal distribution\n",
    "    log_likelihood = (np.divide(x - mu, tau/np.sqrt(.5)) ** 2)\n",
    "    return log_likelihood\n",
    "\n",
    "compute_trunc_likes(nth_grp_lvl_param, nth_prev_iter_curve_param)"
   ]
  },
  {
   "cell_type": "markdown",
   "metadata": {},
   "source": [
    "### So Focus?"
   ]
  },
  {
   "cell_type": "code",
   "execution_count": 7,
   "metadata": {},
   "outputs": [
    {
     "name": "stdout",
     "output_type": "stream",
     "text": [
      "8.65 ms ± 182 µs per loop (mean ± std. dev. of 7 runs, 100 loops each)\n"
     ]
    }
   ],
   "source": [
    "%%timeit\n",
    "def quickie(x, mu):\n",
    "    global tau, bounds, which_param\n",
    "\n",
    "    if tau <= 0:\n",
    "        raise ValueError('Tau is <= 0!')\n",
    "        \n",
    "    return ((x - mu) /  (tau/np.sqrt(.5))) ** 2\n",
    "\n",
    "quickie(nth_grp_lvl_param, nth_prev_iter_curve_param)"
   ]
  },
  {
   "cell_type": "code",
   "execution_count": 8,
   "metadata": {},
   "outputs": [
    {
     "name": "stdout",
     "output_type": "stream",
     "text": [
      "5.76 ms ± 158 µs per loop (mean ± std. dev. of 7 runs, 100 loops each)\n"
     ]
    }
   ],
   "source": [
    "%%timeit\n",
    "def quickie(x, mu):\n",
    "    global tau, bounds, which_param\n",
    "\n",
    "    if tau <= 0:\n",
    "        raise ValueError('Tau is <= 0!')\n",
    "        \n",
    "    return ((x - mu) /  (tau/np.sqrt(.5)))\n",
    "\n",
    "quickie(nth_grp_lvl_param, nth_prev_iter_curve_param)"
   ]
  },
  {
   "cell_type": "code",
   "execution_count": 9,
   "metadata": {},
   "outputs": [
    {
     "name": "stdout",
     "output_type": "stream",
     "text": [
      "2.73 ms ± 90.8 µs per loop (mean ± std. dev. of 7 runs, 100 loops each)\n"
     ]
    }
   ],
   "source": [
    "%%timeit\n",
    "def quickie(x, mu):\n",
    "    global tau, bounds, which_param\n",
    "\n",
    "    if tau <= 0:\n",
    "        raise ValueError('Tau is <= 0!')\n",
    "        \n",
    "    return ((x - mu))\n",
    "\n",
    "quickie(nth_grp_lvl_param, nth_prev_iter_curve_param)"
   ]
  },
  {
   "cell_type": "code",
   "execution_count": 10,
   "metadata": {},
   "outputs": [
    {
     "name": "stdout",
     "output_type": "stream",
     "text": [
      "195 ns ± 4.3 ns per loop (mean ± std. dev. of 7 runs, 1000000 loops each)\n"
     ]
    }
   ],
   "source": [
    "%%timeit\n",
    "def quickie(x, mu):\n",
    "    global tau, bounds, which_param\n",
    "\n",
    "    if tau <= 0:\n",
    "        raise ValueError('Tau is <= 0!')\n",
    "        \n",
    "    return ((x))\n",
    "\n",
    "quickie(nth_grp_lvl_param, nth_prev_iter_curve_param)"
   ]
  },
  {
   "cell_type": "markdown",
   "metadata": {},
   "source": [
    "The subtraction takes about 2ms. The division takes about 3ms. The power takes about 3ms. The rest of the computation takes about 2ms too."
   ]
  },
  {
   "cell_type": "markdown",
   "metadata": {},
   "source": [
    "## Settling\n",
    "We got it down to around 2.5x slower than the original MATLAB code. Think I'll settle for 2.5x for now and finish the rest of the translation. When it's done, we can focus on optimization. "
   ]
  },
  {
   "cell_type": "code",
   "execution_count": null,
   "metadata": {},
   "outputs": [],
   "source": []
  }
 ],
 "metadata": {
  "kernelspec": {
   "display_name": "Python 3",
   "language": "python",
   "name": "python3"
  },
  "language_info": {
   "codemirror_mode": {
    "name": "ipython",
    "version": 3
   },
   "file_extension": ".py",
   "mimetype": "text/x-python",
   "name": "python",
   "nbconvert_exporter": "python",
   "pygments_lexer": "ipython3",
   "version": "3.8.5"
  }
 },
 "nbformat": 4,
 "nbformat_minor": 4
}
