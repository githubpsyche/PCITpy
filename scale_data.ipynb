{
 "cells": [
  {
   "cell_type": "markdown",
   "metadata": {},
   "source": [
    "# scale_data\n",
    "Scale the elements of all the column vectors in Data within the range of [Lower Upper]; default range is [-1 1]\n",
    "\n",
    "**USAGE**:\n",
    "[SCALED] = SCALE_DATA(DATA, LOWER, UPPER)\n",
    "\n",
    "**INPUTS**:\n",
    "- Data: data, numeric vector e.g. [8.3256, 1000, 23, 564]\n",
    "- Lower: lower range, numeric e.g. 0\n",
    "- Upper: upper range, numeric e.g. 1\n",
    "\n",
    "**OUTPUTS**:\n",
    "- scaled: scaled data"
   ]
  },
  {
   "cell_type": "code",
   "execution_count": 21,
   "metadata": {},
   "outputs": [],
   "source": [
    "import numpy as np\n",
    "\n",
    "def scale_data(data, lower=-1, upper=1):\n",
    "    if lower > upper:\n",
    "        raise ValueError('Wrong lower of upper values!')\n",
    "    \n",
    "    maxv = np.amax(data, axis=0)\n",
    "    minv = np.amin(data, axis=0)\n",
    "    shape = np.shape(data)\n",
    "    if len(shape) < 2:\n",
    "        R, C = shape[0], 1\n",
    "    elif len(shape) > 2:\n",
    "        R, C = shape[0], np.prod(shape[1:])\n",
    "    else:\n",
    "        R, C = shape\n",
    "    \n",
    "    scaled = np.multiply(\n",
    "        (data - np.ones((R, 1)) * minv),\n",
    "        (np.ones((R, 1)) * (\n",
    "            (Upper - Lower) * np.divide(\n",
    "                np.ones((1, C)), (maxv - minv))))) + lower\n",
    "    \n",
    "    return scaled"
   ]
  },
  {
   "cell_type": "markdown",
   "metadata": {},
   "source": [
    "Lingering questions:\n",
    "- Is this really a faithful reproduction of the code? Tough to test without full, simulated data.\n"
   ]
  },
  {
   "cell_type": "code",
   "execution_count": 1,
   "metadata": {},
   "outputs": [
    {
     "ename": "ValueError",
     "evalue": "Wrong lower of upper values!",
     "output_type": "error",
     "traceback": [
      "\u001b[1;31m---------------------------------------------------------------------------\u001b[0m",
      "\u001b[1;31mValueError\u001b[0m                                Traceback (most recent call last)",
      "\u001b[1;32m<ipython-input-1-159bbb2f5332>\u001b[0m in \u001b[0;36m<module>\u001b[1;34m()\u001b[0m\n\u001b[1;32m----> 1\u001b[1;33m \u001b[1;32mraise\u001b[0m \u001b[0mValueError\u001b[0m\u001b[1;33m(\u001b[0m\u001b[1;34m'Wrong lower of upper values!'\u001b[0m\u001b[1;33m)\u001b[0m\u001b[1;33m\u001b[0m\u001b[0m\n\u001b[0m",
      "\u001b[1;31mValueError\u001b[0m: Wrong lower of upper values!"
     ]
    }
   ],
   "source": [
    "raise ValueError('Wrong lower of upper values!')"
   ]
  },
  {
   "cell_type": "code",
   "execution_count": null,
   "metadata": {},
   "outputs": [],
   "source": []
  }
 ],
 "metadata": {
  "kernelspec": {
   "display_name": "Python 3",
   "language": "python",
   "name": "python3"
  },
  "language_info": {
   "codemirror_mode": {
    "name": "ipython",
    "version": 3
   },
   "file_extension": ".py",
   "mimetype": "text/x-python",
   "name": "python",
   "nbconvert_exporter": "python",
   "pygments_lexer": "ipython3",
   "version": "3.6.5"
  }
 },
 "nbformat": 4,
 "nbformat_minor": 2
}
