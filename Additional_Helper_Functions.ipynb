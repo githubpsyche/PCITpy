{
 "cells": [
  {
   "cell_type": "code",
   "execution_count": null,
   "metadata": {},
   "outputs": [],
   "source": [
    "# hide\n",
    "# default_exp helpers\n",
    "from nbdev.showdoc import *"
   ]
  },
  {
   "cell_type": "markdown",
   "metadata": {},
   "source": [
    "# Additional Helper Functions\n",
    "> Miscellaneous functions reused across the toolbox to carry out simple numerical operations"
   ]
  },
  {
   "cell_type": "markdown",
   "metadata": {},
   "source": [
    "**Note:** A few helper functions included in the MATLAB version of the PCIT toolbox are not present here. When it comes to numerical helper functions `logsumexp.m` and `round_to.m`, this is because a Python version of the function is already included in a required scientific programming library such as `scipy` or `numpy`. When it comes to visualization helper functions `savesamesize.m` and `jbfill.m`, it's because equivalent Python functions are either unnecessary or not applicable in the context of `matplotlib`'s library. In either case, equivalent functionality is achieved without implementation of an additional toolbox function."
   ]
  },
  {
   "cell_type": "code",
   "execution_count": null,
   "metadata": {},
   "outputs": [],
   "source": [
    "# export\n",
    "# hide\n",
    "from scipy import stats\n",
    "\n",
    "def likratiotest(l1, l0, k1, k0):\n",
    "    \"\"\"Performs the likelihood ratio test for nested models.\n",
    "      \n",
    "    **Arguments**:  \n",
    "    - L1: log-likelihood for alternative model\n",
    "    - L0: log-likelihood for the null model\n",
    "    - K1: number of parameters for alternative model\n",
    "    - K0: number of parameters for null model (K1 > K0)\n",
    "    \n",
    "    **Returns**:  \n",
    "    - D: deviate score: -2*log(L1-L0)\n",
    "    - p: p-value from chi-squared test with degrees of freedom = K1-K0\n",
    "    \"\"\"\n",
    "    D = -2 * (l0 - l1)  # deviance score\n",
    "    df = k1 - k0  # degrees of freedom\n",
    "    p = stats.chi2.sf(D, df)  # chi-square test\n",
    "    return D, p"
   ]
  },
  {
   "cell_type": "code",
   "execution_count": null,
   "metadata": {},
   "outputs": [],
   "source": [
    "show_doc(likratiotest, title_level=2)"
   ]
  },
  {
   "cell_type": "markdown",
   "metadata": {},
   "source": [
    "This function implements the $\\beta_1$ likelihood-ratio test described in Section 4.10 of the [P-CIT Toolbox Manual](https://github.com/PrincetonUniversity/p-cit-toolbox). \n",
    "\n",
    "If we want to build confidence that this function is an exact reproduction of the MATLAB implementation, we can ask whether our version returns `(-20, 1)` for the arguments `(l1=10.0, l0=20.0, k1=8.0, k0=5.0)` as the MATLAB version does:"
   ]
  },
  {
   "cell_type": "code",
   "execution_count": null,
   "metadata": {},
   "outputs": [],
   "source": [
    "likratiotest(l1=10.0, l0=20.0, k1=8.0, k0=5.0)"
   ]
  },
  {
   "cell_type": "markdown",
   "metadata": {},
   "source": [
    "`(-20.0, 1.0)`"
   ]
  },
  {
   "cell_type": "code",
   "execution_count": null,
   "metadata": {},
   "outputs": [],
   "source": [
    "# export\n",
    "# hide\n",
    "from scipy import special\n",
    "from numpy.random import rand\n",
    "from math import sqrt\n",
    "\n",
    "\n",
    "def truncated_normal(a, b, mu, sigma, n):\n",
    "    \"\"\"Generates N samples from a truncated normal distribution with mean=mu, \n",
    "    sigma=sigma and with bounds A and B.\n",
    "    \n",
    "    We use this function in our toolbox to add noise from a truncated Gaussian \n",
    "    distribution.\n",
    "    \n",
    "    **Arguments**:  \n",
    "    - A: lower bound\n",
    "    - B: upper bound\n",
    "    - mu: mean\n",
    "    - sigma: sigma, standard deviation\n",
    "    - N: number of samples\n",
    "    \n",
    "    **Returns** array of length N containing mean + truncated Gaussian noise with \n",
    "    mean=mu, sigma=sigma, between bounds A and B\n",
    "    \"\"\"\n",
    "    \n",
    "    if (b - a) < 0:\n",
    "        raise ValueError('Lower bound is greater then upper bound!')\n",
    "    elif sigma <= 0:\n",
    "        raise ValueError('Sigma is <= 0!')\n",
    "\n",
    "    phi_l = 0.5 * special.erfc(-(((a - mu) / sigma) / sqrt(2)))\n",
    "    phi_r = 0.5 * special.erfc(-(((b - mu) / sigma) / sqrt(2)))\n",
    "\n",
    "    # Refer to http://www.maths.uq.edu.au/~chancc/10Fstat3001/ass4sol.pdf for truncated normal dist sampling below --\n",
    "    # If this source does not exist then refer to code in the link below, \n",
    "    # http://www.wiley.com/legacy/wileychi/koopbayesian/supp/normt_rnd.m \n",
    "    return mu + sigma * (sqrt(2) * special.erfinv(2 * (phi_l + (phi_r - phi_l) * rand(int(n))) - 1))"
   ]
  },
  {
   "cell_type": "code",
   "execution_count": null,
   "metadata": {},
   "outputs": [],
   "source": [
    "show_doc(truncated_normal, title_level=2)"
   ]
  },
  {
   "cell_type": "markdown",
   "metadata": {},
   "source": [
    "As an example, we can generate and visualize the result of applying the function to some arbitrary paremeters:"
   ]
  },
  {
   "cell_type": "code",
   "execution_count": null,
   "metadata": {},
   "outputs": [],
   "source": [
    "import matplotlib.pyplot as plt\n",
    "\n",
    "# generate a sample\n",
    "sample = truncated_normal(a=.7, b=1.3, mu=1.0, sigma=.1, n=10000.0)\n",
    "\n",
    "# visualize its distribution\n",
    "n_bins = 100\n",
    "plt.hist(sample, bins=n_bins)\n",
    "plt.title('truncated_normal(a=.7, b=1.3, mu=1.0, sigma=.1, n=10000.0)')\n",
    "plt.savefig('figures/truncated_normal_example.svg')\n",
    "plt.show()\n",
    "\n",
    "sample"
   ]
  },
  {
   "cell_type": "markdown",
   "metadata": {},
   "source": [
    "![](figures/truncated_normal_example.svg)\n",
    "```\n",
    "array([0.88296168, 1.22801193, 0.8565991 , ..., 0.87280798, 1.09364587,\n",
    "       0.96110738])\n",
    "```"
   ]
  },
  {
   "cell_type": "code",
   "execution_count": null,
   "metadata": {},
   "outputs": [],
   "source": [
    "# export\n",
    "# hide\n",
    "import numpy as np\n",
    "\n",
    "\n",
    "def scale_data(data, lower=-1.0, upper=1.0):\n",
    "    \"\"\"Scale the elements of all the column vectors in Data within the range \n",
    "    of [Lower Upper]; default range is [-1 1]\n",
    "    \n",
    "    We use this function in our toolbox to scale the predictor variable \n",
    "    between 0 and 1. \n",
    "\n",
    "    **Arguments**:  \n",
    "    - Data: data, numeric vector\n",
    "    - Lower: lower range, numeric\n",
    "    - Upper: upper range, numeric\n",
    "\n",
    "    **Returns**:\n",
    "    - scaled: 1xN array containing scaled data\n",
    "    \"\"\"\n",
    "    if lower > upper:\n",
    "        raise ValueError('Wrong lower of upper values!')\n",
    "\n",
    "    max_v = np.amax(data, axis=0)\n",
    "    min_v = np.amin(data, axis=0)\n",
    "    shape = np.shape(data)\n",
    "\n",
    "    if len(shape) < 2:\n",
    "        r, c = 1, shape[0]\n",
    "    elif len(shape) > 2:\n",
    "        r, c = shape[0], np.prod(shape[1:])\n",
    "    else:\n",
    "        r, c = shape\n",
    "\n",
    "    scaled = ((data - np.ones((r, 1)) * min_v) * (\n",
    "            np.ones((r, 1)) * (\n",
    "            (upper - lower) * (\n",
    "            np.ones((1, c)) / (max_v - min_v))))) + lower\n",
    "\n",
    "    return scaled"
   ]
  },
  {
   "cell_type": "code",
   "execution_count": null,
   "metadata": {},
   "outputs": [],
   "source": [
    "show_doc(scale_data, title_level=2)"
   ]
  },
  {
   "cell_type": "markdown",
   "metadata": {},
   "source": [
    "As an example we can execute the function with a few arbitrary parameters:"
   ]
  },
  {
   "cell_type": "code",
   "execution_count": null,
   "metadata": {},
   "outputs": [],
   "source": [
    "scale_data([8.3256, 1000.0, 23.0, 564.0], 0, 1)"
   ]
  },
  {
   "cell_type": "markdown",
   "metadata": {},
   "source": [
    "As specified, it returns the vector scaled between 0 and 1.\n",
    "\n",
    "```array([[0.        , 1.        , 0.0147976 , 0.56033956]])```\n",
    "\n",
    "Notably, the output is 2-dimensional rather than a vector; this enforces consistency in the shape of the function's output regardless of the shape of the input. It also helps ensure compatibility with other code translated from the MATLAB implementation of the toolbox."
   ]
  }
 ],
 "metadata": {
  "kernelspec": {
   "display_name": "Python 3",
   "language": "python",
   "name": "python3"
  }
 },
 "nbformat": 4,
 "nbformat_minor": 4
}
