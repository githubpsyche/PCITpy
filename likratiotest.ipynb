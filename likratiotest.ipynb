{
 "cells": [
  {
   "cell_type": "markdown",
   "metadata": {},
   "source": [
    "# Likratiotest\n",
    "Likelihood ratio test for nested models.\n",
    "\n",
    "**USAGE**:\n",
    "[D p] = likratiotest(L1,L0,K1,K0)\n",
    "\n",
    "**INPUTS**:\n",
    "- L1 - log-likelihood for alternative model\n",
    "- L0 - log-likelihood for null model\n",
    "- K1 - number of parameters for alternative model\n",
    "- K0 - number of parameters for null model (K1>K0)\n",
    "\n",
    "**OUTPUTS**:\n",
    "- D - deviance score: -2*log(L1-L0)\n",
    "- p - p-value from chi-squared test with degrees of freedom = K1-K0"
   ]
  },
  {
   "cell_type": "code",
   "execution_count": 1,
   "metadata": {},
   "outputs": [],
   "source": [
    "from scipy import stats\n",
    "\n",
    "def likratiotest(L1, L0, K1, K0):\n",
    "    D = -2*(L0-L1)            # deviance score\n",
    "    df = K1-K0                # degrees of freedom\n",
    "    p = stats.chi2.sf(D, df)  # chi-square test\n",
    "    return D, p"
   ]
  },
  {
   "cell_type": "markdown",
   "metadata": {},
   "source": [
    "Lingering questions:\n",
    "- What really is this function doing? Where is it used? Tie it to the manual.\n",
    "- I need to understand what the inputs to this function are. Floats? Arrays? Important for compatibility."
   ]
  },
  {
   "cell_type": "code",
   "execution_count": null,
   "metadata": {},
   "outputs": [],
   "source": []
  }
 ],
 "metadata": {
  "kernelspec": {
   "display_name": "Python 3",
   "language": "python",
   "name": "python3"
  },
  "language_info": {
   "codemirror_mode": {
    "name": "ipython",
    "version": 3
   },
   "file_extension": ".py",
   "mimetype": "text/x-python",
   "name": "python",
   "nbconvert_exporter": "python",
   "pygments_lexer": "ipython3",
   "version": "3.6.5"
  }
 },
 "nbformat": 4,
 "nbformat_minor": 2
}
