{
 "cells": [
  {
   "cell_type": "markdown",
   "metadata": {},
   "source": [
    "# round_to\n",
    "Round the number to the no. of digits \n",
    "\n",
    "**USAGE**:\n",
    "[ROUNDED_NUMBER] = ROUND_TO(NUMBER, DIGITS)\n",
    "\n",
    "**INPUTS**:\n",
    "- number: The number to be rounded, numeric e.g. 6.784577854\n",
    "- digits: The number of digits to be rounded to, numeric e.g. 4\n",
    "\n",
    "**OUTPUTS**:\n",
    "- rounded_number: The rounded number"
   ]
  },
  {
   "cell_type": "code",
   "execution_count": 1,
   "metadata": {},
   "outputs": [],
   "source": [
    "import numpy as np\n",
    "\n",
    "def round_to(number, digits=1):\n",
    "    digits = np.power(10, digits)\n",
    "    return np.round(number * digits) / digits"
   ]
  },
  {
   "cell_type": "markdown",
   "metadata": {},
   "source": [
    "Lingering questions:\n",
    "- Why not just use matlab's round function?"
   ]
  },
  {
   "cell_type": "code",
   "execution_count": null,
   "metadata": {},
   "outputs": [],
   "source": []
  }
 ],
 "metadata": {
  "kernelspec": {
   "display_name": "Python 3",
   "language": "python",
   "name": "python3"
  },
  "language_info": {
   "codemirror_mode": {
    "name": "ipython",
    "version": 3
   },
   "file_extension": ".py",
   "mimetype": "text/x-python",
   "name": "python",
   "nbconvert_exporter": "python",
   "pygments_lexer": "ipython3",
   "version": "3.6.5"
  }
 },
 "nbformat": 4,
 "nbformat_minor": 2
}
